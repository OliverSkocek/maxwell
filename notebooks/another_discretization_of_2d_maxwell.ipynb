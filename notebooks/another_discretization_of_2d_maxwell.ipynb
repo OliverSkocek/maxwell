{
 "cells": [
  {
   "cell_type": "code",
   "execution_count": 1,
   "id": "3e9e1c99",
   "metadata": {},
   "outputs": [],
   "source": [
    "import tensorflow as tf\n",
    "import numpy as np\n",
    "from matplotlib import pyplot as plt\n",
    "from tensorflow.nn import convolution\n",
    "\n",
    "from celluloid import Camera\n",
    "from matplotlib import animation, rc\n",
    "from IPython.display import HTML\n",
    "from IPython.display import clear_output\n",
    "from time import time\n",
    "from scipy.special import factorial"
   ]
  },
  {
   "cell_type": "code",
   "execution_count": 2,
   "id": "c52509be",
   "metadata": {},
   "outputs": [],
   "source": [
    "import os\n",
    "import sys\n",
    "module_path = os.path.abspath(os.path.join('..'))\n",
    "if module_path not in sys.path:\n",
    "    sys.path.append(module_path)"
   ]
  },
  {
   "cell_type": "code",
   "execution_count": 3,
   "id": "68481d57",
   "metadata": {},
   "outputs": [],
   "source": [
    "from FiniteDifferences.Maxwell2d import Maxwell2DFiniteDifference"
   ]
  },
  {
   "cell_type": "code",
   "execution_count": 4,
   "id": "3f7f2211",
   "metadata": {},
   "outputs": [],
   "source": [
    "mwell = Maxwell2DFiniteDifference(mesh_size=0.01, step_size=1e-3, )"
   ]
  },
  {
   "cell_type": "code",
   "execution_count": 11,
   "id": "48107885",
   "metadata": {},
   "outputs": [],
   "source": [
    "B, E, I, p = mwell.evolve(lambda x, y: np.exp(-np.sum(np.square((np.array([x - 0.5, y- 0.5]).reshape((2,1,1)))/0.1), axis=0)), lambda x,y: np.zeros((2,)), lambda x,y: 0, 1,order=10)"
   ]
  },
  {
   "cell_type": "code",
   "execution_count": 10,
   "id": "b4c18267",
   "metadata": {},
   "outputs": [
    {
     "data": {
      "text/plain": [
       "<matplotlib.image.AxesImage at 0x7fa404183ac0>"
      ]
     },
     "execution_count": 10,
     "metadata": {},
     "output_type": "execute_result"
    },
    {
     "data": {
      "image/png": "[encoded data removed]",
      "text/plain": [
       "<Figure size 432x288 with 1 Axes>"
      ]
     },
     "metadata": {
      "needs_background": "light"
     },
     "output_type": "display_data"
    }
   ],
   "source": [
    "plt.imshow(B)"
   ]
  },
  {
   "cell_type": "code",
   "execution_count": null,
   "id": "9020ac60",
   "metadata": {},
   "outputs": [],
   "source": [
    "N = 1000\n",
    "dt = 0.001\n",
    "h = 0.5\n",
    "resis = 10000"
   ]
  },
  {
   "cell_type": "code",
   "execution_count": null,
   "id": "51e4db1d",
   "metadata": {},
   "outputs": [],
   "source": [
    "_U = np.zeros(shape=(N, N, 2))\n",
    "_I = np.zeros(shape=(N, N, 2))\n",
    "_B = np.zeros(shape=(N, N, 1))\n",
    "_p = np.zeros(shape=(N, N, 1))\n",
    "\n",
    "_R = resis * np.ones(shape=(N, N, 1))\n",
    "_eps = np.ones(shape=(N, N, 1))\n",
    "_mu = np.ones(shape=(N, N, 1))"
   ]
  },
  {
   "cell_type": "code",
   "execution_count": null,
   "id": "42700a2b",
   "metadata": {},
   "outputs": [],
   "source": [
    "X = np.array([[0, 0, 0], [1, -1, 0],[0, 0, 0]])\n",
    "Y = np.array([[0, 1, 0], [0, -1, 0],[0, 0, 0]])\n",
    "_continuity_filter = np.stack([X, Y]).reshape((2, 3, 3, 1)).transpose(1,2,0,3)"
   ]
  },
  {
   "cell_type": "code",
   "execution_count": null,
   "id": "6ac77d61",
   "metadata": {},
   "outputs": [],
   "source": [
    "X = np.array([[0, 0, 0], [0, 1, 0],[0, -1, 0]])\n",
    "Y = np.array([[0, 0, 0], [0, -1, 1],[0, 0, 0]])\n",
    "_faraday_filter = np.stack([X, Y]).reshape((2, 3, 3, 1)).transpose(1,2,0,3) / h ** 2"
   ]
  },
  {
   "cell_type": "code",
   "execution_count": null,
   "id": "1bb598a7",
   "metadata": {},
   "outputs": [],
   "source": [
    "X = np.array([[0, 1, 0], [0, -1, 0],[0, 0, 0]])\n",
    "Y = np.array([[0, 0, 0], [-1, 1, 0],[0, 0, 0]])\n",
    "_ampere_filter = np.stack([X, Y]).reshape((2, 3, 3, 1)).transpose(1,2,3,0) * h"
   ]
  },
  {
   "cell_type": "code",
   "execution_count": null,
   "id": "85a0fbc5",
   "metadata": {},
   "outputs": [],
   "source": [
    "Y"
   ]
  },
  {
   "cell_type": "code",
   "execution_count": null,
   "id": "01f5115c",
   "metadata": {},
   "outputs": [],
   "source": [
    "x = np.linspace(0, 10, N)\n",
    "mesh = np.stack(np.meshgrid(x, x))\n",
    "\n",
    "_B = np.exp(-np.sum(np.square((mesh-np.array([5,5]).reshape((2,1,1)))/1.5), axis=0))\n",
    "\n",
    "plt.imshow(_B)"
   ]
  },
  {
   "cell_type": "code",
   "execution_count": null,
   "id": "f5263948",
   "metadata": {},
   "outputs": [],
   "source": [
    "x = np.linspace(0, 10, N)\n",
    "mesh = np.stack(np.meshgrid(x, x))\n",
    "U = np.exp(-np.sum(np.square(mesh), axis=0))\n",
    "plt.imshow(U>0.0001)\n",
    "_R[U>0.0001]=0.1"
   ]
  },
  {
   "cell_type": "code",
   "execution_count": null,
   "id": "c4f1ea35",
   "metadata": {},
   "outputs": [],
   "source": [
    "_continuity_filter[:,:,0,0]"
   ]
  },
  {
   "cell_type": "code",
   "execution_count": null,
   "id": "93f2ee16",
   "metadata": {},
   "outputs": [],
   "source": [
    "_continuity_filter[:,:,1,0]"
   ]
  },
  {
   "cell_type": "code",
   "execution_count": null,
   "id": "1f200f16",
   "metadata": {},
   "outputs": [],
   "source": [
    "faraday_filter = tf.constant(_faraday_filter, name='faraday_filter', dtype=tf.float64)\n",
    "ampere_filter = tf.constant(_ampere_filter, name='ampere_filter', dtype=tf.float64)\n",
    "continuity_filter = tf.constant(_continuity_filter, name='continuity_filter', dtype=tf.float64)\n",
    "\n",
    "eps = tf.constant(_eps.reshape((1, N, N, 1)), name='dielectricity', dtype=tf.float64)\n",
    "mu = tf.constant(_mu.reshape((1, N, N, 1)), name='permitivity', dtype=tf.float64)\n",
    "R = tf.constant(_R.reshape((1, N, N, 1)), name='resistance', dtype=tf.float64)\n",
    "U = tf.Variable(_U.reshape((1, N, N, 2)), name='e_field', dtype=tf.float64)\n",
    "I = tf.Variable(_I.reshape((1, N, N, 2)), name='current', dtype=tf.float64)\n",
    "B = tf.Variable(_B.reshape((1, N, N, 1)), name='b_field', dtype=tf.float64)\n",
    "p = tf.Variable(_p.reshape((1, N, N, 1)), name='charge_density', dtype=tf.float64)"
   ]
  },
  {
   "cell_type": "code",
   "execution_count": null,
   "id": "e03c7f54",
   "metadata": {},
   "outputs": [],
   "source": [
    "class cam():\n",
    "    \n",
    "    def __init__(self, ):\n",
    "        self.fig, self.axs = plt.subplots(2, 2)\n",
    "        self.camera = Camera(self.fig)\n",
    "        \n",
    "    def plot(self, rp, i, v, b):\n",
    "        self.axs[0, 0].imshow(rp)\n",
    "        self.axs[0, 0].set_title('resistance/charge density')\n",
    "        self.axs[0, 1].quiver(np.linspace(0,10,20), np.linspace(0,10,20), i[::50,::50,0], i[::50,::50,1], scale=1)\n",
    "        self.axs[0, 1].set_title('current')\n",
    "        self.axs[1, 0].imshow(b, vmin=-1, vmax=1)\n",
    "        self.axs[1, 0].set_title('magnetic field')\n",
    "        self.axs[1, 1].quiver(np.linspace(0,10,20), np.linspace(0,10,20), v[::50,::50,0], v[::50,::50,1], scale=3)\n",
    "        self.axs[1, 1].set_title('electric field')\n",
    "        self.fig.set_figheight(10)\n",
    "        self.fig.set_figwidth(10)\n",
    "        for ax in cc.fig.axes:\n",
    "            ax.set_xticks([])\n",
    "            ax.set_yticks([])\n",
    "        self.camera.snap()\n",
    "        "
   ]
  },
  {
   "cell_type": "raw",
   "id": "67270ebf",
   "metadata": {},
   "source": [
    "tt = time()\n",
    "for jter in range(1000):\n",
    "    I = U / R\n",
    "    dB = convolution(U, filters=faraday_filter, padding='SAME')\n",
    "    dp = convolution(I, filters=continuity_filter, padding='SAME')\n",
    "    dU = (convolution(B, filters=ampere_filter, padding='SAME') / eps / mu - I / eps)\n",
    "\n",
    "    U.assign_add(dU * dt)\n",
    "    B.assign_add(dB * dt)\n",
    "    p.assign_add(dp * dt)\n",
    "print(time() - tt)"
   ]
  },
  {
   "cell_type": "code",
   "execution_count": null,
   "id": "09c289f4",
   "metadata": {},
   "outputs": [],
   "source": [
    "r = np.squeeze(R.numpy())\n",
    "_p = np.squeeze(p.numpy())\n",
    "plus = np.vectorize(lambda x: max(x, 0))(_p)\n",
    "minus = -np.vectorize(lambda x: min(x, 0))(_p)\n",
    "rp = np.stack([plus, 1 - r / resis, minus]).transpose(2,1,0)\n",
    "rp = (255*rp).astype(np.uint8)\n",
    "j = tf.squeeze(I).numpy()\n",
    "cc = cam()\n",
    "cc.plot(np.flipud(rp), j / h, tf.squeeze(U).numpy() / h, np.flipud(tf.squeeze(B).numpy()))\n",
    "cc.fig"
   ]
  },
  {
   "cell_type": "code",
   "execution_count": null,
   "id": "347d37ab",
   "metadata": {
    "scrolled": true
   },
   "outputs": [],
   "source": [
    "%%capture\n",
    "cc = cam()\n",
    "for jter in range(80000):\n",
    "    I = U / R\n",
    "    dB = convolution(U, filters=faraday_filter, padding='SAME')\n",
    "    dp = convolution(I, filters=continuity_filter, padding='SAME')\n",
    "    dU = (convolution(B, filters=ampere_filter, padding='SAME') / eps / mu - I / eps)\n",
    "\n",
    "    U.assign_add(dU * dt)\n",
    "    B.assign_add(dB * dt)\n",
    "    p.assign_add(dp * dt)\n",
    "    if jter % 2000 ==0:\n",
    "        r = np.squeeze(R.numpy())\n",
    "        _p = np.squeeze(p.numpy())\n",
    "        plus = _p.copy()\n",
    "        plus[plus<0] = 0\n",
    "        minus = -_p\n",
    "        minus[minus<0] = 0\n",
    "        rp = np.stack([plus, 1 - r / resis, minus]).transpose(2,1,0)\n",
    "        rp = (255*rp).astype(np.uint8)\n",
    "        j = tf.squeeze(I).numpy()\n",
    "        cc.plot(np.flipud(rp), j / h, tf.squeeze(U).numpy() / h, np.flipud(tf.squeeze(B).numpy()))\n",
    "anim = cc.camera.animate(blit=True)\n",
    "clear_output()"
   ]
  },
  {
   "cell_type": "code",
   "execution_count": null,
   "id": "19616bdb",
   "metadata": {},
   "outputs": [],
   "source": [
    "HTML(anim.to_html5_video())"
   ]
  },
  {
   "cell_type": "code",
   "execution_count": null,
   "id": "3461ae47",
   "metadata": {},
   "outputs": [],
   "source": []
  },
  {
   "cell_type": "code",
   "execution_count": null,
   "id": "ce3df0b7",
   "metadata": {},
   "outputs": [],
   "source": []
  },
  {
   "cell_type": "code",
   "execution_count": null,
   "id": "64debaff",
   "metadata": {},
   "outputs": [],
   "source": []
  },
  {
   "cell_type": "code",
   "execution_count": null,
   "id": "150a952c",
   "metadata": {},
   "outputs": [],
   "source": []
  },
  {
   "cell_type": "code",
   "execution_count": null,
   "id": "4948de35",
   "metadata": {},
   "outputs": [],
   "source": []
  },
  {
   "cell_type": "code",
   "execution_count": null,
   "id": "60e1ce69",
   "metadata": {},
   "outputs": [],
   "source": []
  },
  {
   "cell_type": "code",
   "execution_count": null,
   "id": "4e4ef8ed",
   "metadata": {},
   "outputs": [],
   "source": []
  },
  {
   "cell_type": "code",
   "execution_count": null,
   "id": "453665d4",
   "metadata": {},
   "outputs": [],
   "source": []
  },
  {
   "cell_type": "code",
   "execution_count": null,
   "id": "6e8f5c5e",
   "metadata": {},
   "outputs": [],
   "source": []
  },
  {
   "cell_type": "code",
   "execution_count": null,
   "id": "ff904dc1",
   "metadata": {},
   "outputs": [],
   "source": []
  }
 ],
 "metadata": {
  "kernelspec": {
   "display_name": "Python 3",
   "language": "python",
   "name": "python3"
  },
  "language_info": {
   "codemirror_mode": {
    "name": "ipython",
    "version": 3
   },
   "file_extension": ".py",
   "mimetype": "text/x-python",
   "name": "python",
   "nbconvert_exporter": "python",
   "pygments_lexer": "ipython3",
   "version": "3.9.5"
  }
 },
 "nbformat": 4,
 "nbformat_minor": 5
}
