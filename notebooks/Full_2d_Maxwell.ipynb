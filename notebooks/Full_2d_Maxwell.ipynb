{
 "cells": [
  {
   "cell_type": "code",
   "execution_count": 2,
   "metadata": {},
   "outputs": [],
   "source": [
    "import numpy as np\n",
    "from matplotlib import pyplot as plt"
   ]
  },
  {
   "cell_type": "code",
   "execution_count": 15,
   "metadata": {},
   "outputs": [],
   "source": [
    "number_of_divisions=4\n",
    "\n",
    "line = np.arange(number_of_divisions + 1)\n",
    "Kanten=np.concatenate(np.stack(np.meshgrid(line, line)).T, axis=0)"
   ]
  },
  {
   "cell_type": "code",
   "execution_count": 49,
   "metadata": {},
   "outputs": [
    {
     "data": {
      "text/plain": [
       "array([[0, 0],\n",
       "       [0, 1],\n",
       "       [0, 2],\n",
       "       [0, 3],\n",
       "       [0, 4],\n",
       "       [1, 0],\n",
       "       [1, 1],\n",
       "       [1, 2],\n",
       "       [1, 3],\n",
       "       [1, 4],\n",
       "       [2, 0],\n",
       "       [2, 1],\n",
       "       [2, 2],\n",
       "       [2, 3],\n",
       "       [2, 4],\n",
       "       [3, 0],\n",
       "       [3, 1],\n",
       "       [3, 2],\n",
       "       [3, 3],\n",
       "       [3, 4],\n",
       "       [4, 0],\n",
       "       [4, 1],\n",
       "       [4, 2],\n",
       "       [4, 3],\n",
       "       [4, 4]])"
      ]
     },
     "execution_count": 49,
     "metadata": {},
     "output_type": "execute_result"
    }
   ],
   "source": [
    "Kanten"
   ]
  },
  {
   "cell_type": "code",
   "execution_count": 18,
   "metadata": {},
   "outputs": [
    {
     "data": {
      "image/png": "[encoded data removed]",
      "text/plain": [
       "<Figure size 432x288 with 1 Axes>"
      ]
     },
     "metadata": {
      "needs_background": "light"
     },
     "output_type": "display_data"
    }
   ],
   "source": [
    "plt.scatter(*np.split(Kanten,2,axis=1))\n",
    "plt.axis('equal');"
   ]
  },
  {
   "cell_type": "code",
   "execution_count": 70,
   "metadata": {},
   "outputs": [
    {
     "data": {
      "text/plain": [
       "16"
      ]
     },
     "execution_count": 70,
     "metadata": {},
     "output_type": "execute_result"
    }
   ],
   "source": [
    "(N-1)**2 "
   ]
  },
  {
   "cell_type": "markdown",
   "metadata": {},
   "source": [
    "(N-1)**2 Flächen "
   ]
  },
  {
   "cell_type": "code",
   "execution_count": 76,
   "metadata": {},
   "outputs": [
    {
     "data": {
      "text/plain": [
       "array([[ 0,  1,  5,  6],\n",
       "       [ 1,  2,  6,  7],\n",
       "       [ 2,  3,  7,  8],\n",
       "       [ 3,  4,  8,  9],\n",
       "       [ 5,  6, 10, 11],\n",
       "       [ 6,  7, 11, 12],\n",
       "       [ 7,  8, 12, 13],\n",
       "       [ 8,  9, 13, 14],\n",
       "       [10, 11, 15, 16],\n",
       "       [11, 12, 16, 17],\n",
       "       [12, 13, 17, 18],\n",
       "       [13, 14, 18, 19],\n",
       "       [15, 16, 20, 21],\n",
       "       [16, 17, 21, 22],\n",
       "       [17, 18, 22, 23],\n",
       "       [18, 19, 23, 24]])"
      ]
     },
     "execution_count": 76,
     "metadata": {},
     "output_type": "execute_result"
    }
   ],
   "source": [
    "x = np.arange(N - 1).reshape(-1,1) + np.array([0, 1, N, N + 1]).reshape(1, -1)\n",
    "z=np.concatenate([x + N * i for i in range(N - 1)],axis=0)\n",
    "z"
   ]
  },
  {
   "cell_type": "markdown",
   "metadata": {},
   "source": [
    "2 * (N - 1) * N number of edges"
   ]
  },
  {
   "cell_type": "code",
   "execution_count": 62,
   "metadata": {},
   "outputs": [],
   "source": [
    "N = 5\n",
    "x=np.concatenate([np.arange(N-1).reshape(-1, 1), np.arange(1, N).reshape(-1, 1)],axis=1)\n",
    "y=np.concatenate([x + N * i for i in range(N)],axis=0)\n",
    "x=N * np.concatenate([np.arange(N-1).reshape(-1, 1), np.arange(1, N).reshape(-1, 1)],axis=1)\n",
    "z=np.concatenate([x + i for i in range(N)],axis=0)\n",
    "z=np.concatenate([y, z], axis=0)"
   ]
  },
  {
   "cell_type": "code",
   "execution_count": 65,
   "metadata": {},
   "outputs": [
    {
     "data": {
      "text/plain": [
       "40"
      ]
     },
     "execution_count": 65,
     "metadata": {},
     "output_type": "execute_result"
    }
   ],
   "source": [
    "2 * (N - 1) * N"
   ]
  },
  {
   "cell_type": "code",
   "execution_count": 64,
   "metadata": {},
   "outputs": [
    {
     "data": {
      "text/plain": [
       "(40, 2)"
      ]
     },
     "execution_count": 64,
     "metadata": {},
     "output_type": "execute_result"
    }
   ],
   "source": [
    "z.shape"
   ]
  },
  {
   "cell_type": "code",
   "execution_count": 66,
   "metadata": {},
   "outputs": [
    {
     "data": {
      "text/plain": [
       "array([[ 0,  1],\n",
       "       [ 1,  2],\n",
       "       [ 2,  3],\n",
       "       [ 3,  4],\n",
       "       [ 5,  6],\n",
       "       [ 6,  7],\n",
       "       [ 7,  8],\n",
       "       [ 8,  9],\n",
       "       [10, 11],\n",
       "       [11, 12],\n",
       "       [12, 13],\n",
       "       [13, 14],\n",
       "       [15, 16],\n",
       "       [16, 17],\n",
       "       [17, 18],\n",
       "       [18, 19],\n",
       "       [20, 21],\n",
       "       [21, 22],\n",
       "       [22, 23],\n",
       "       [23, 24],\n",
       "       [ 0,  5],\n",
       "       [ 5, 10],\n",
       "       [10, 15],\n",
       "       [15, 20],\n",
       "       [ 1,  6],\n",
       "       [ 6, 11],\n",
       "       [11, 16],\n",
       "       [16, 21],\n",
       "       [ 2,  7],\n",
       "       [ 7, 12],\n",
       "       [12, 17],\n",
       "       [17, 22],\n",
       "       [ 3,  8],\n",
       "       [ 8, 13],\n",
       "       [13, 18],\n",
       "       [18, 23],\n",
       "       [ 4,  9],\n",
       "       [ 9, 14],\n",
       "       [14, 19],\n",
       "       [19, 24]])"
      ]
     },
     "execution_count": 66,
     "metadata": {},
     "output_type": "execute_result"
    }
   ],
   "source": [
    "z"
   ]
  },
  {
   "cell_type": "code",
   "execution_count": 61,
   "metadata": {},
   "outputs": [
    {
     "data": {
      "text/plain": [
       "array([[[0, 0],\n",
       "        [1, 0]],\n",
       "\n",
       "       [[1, 0],\n",
       "        [2, 0]],\n",
       "\n",
       "       [[2, 0],\n",
       "        [3, 0]],\n",
       "\n",
       "       [[3, 0],\n",
       "        [4, 0]],\n",
       "\n",
       "       [[0, 1],\n",
       "        [1, 1]],\n",
       "\n",
       "       [[1, 1],\n",
       "        [2, 1]],\n",
       "\n",
       "       [[2, 1],\n",
       "        [3, 1]],\n",
       "\n",
       "       [[3, 1],\n",
       "        [4, 1]],\n",
       "\n",
       "       [[0, 2],\n",
       "        [1, 2]],\n",
       "\n",
       "       [[1, 2],\n",
       "        [2, 2]],\n",
       "\n",
       "       [[2, 2],\n",
       "        [3, 2]],\n",
       "\n",
       "       [[3, 2],\n",
       "        [4, 2]],\n",
       "\n",
       "       [[0, 3],\n",
       "        [1, 3]],\n",
       "\n",
       "       [[1, 3],\n",
       "        [2, 3]],\n",
       "\n",
       "       [[2, 3],\n",
       "        [3, 3]],\n",
       "\n",
       "       [[3, 3],\n",
       "        [4, 3]],\n",
       "\n",
       "       [[0, 4],\n",
       "        [1, 4]],\n",
       "\n",
       "       [[1, 4],\n",
       "        [2, 4]],\n",
       "\n",
       "       [[2, 4],\n",
       "        [3, 4]],\n",
       "\n",
       "       [[3, 4],\n",
       "        [4, 4]]])"
      ]
     },
     "execution_count": 61,
     "metadata": {},
     "output_type": "execute_result"
    }
   ],
   "source": [
    "Kanten[y]"
   ]
  },
  {
   "cell_type": "code",
   "execution_count": null,
   "metadata": {},
   "outputs": [],
   "source": []
  }
 ],
 "metadata": {
  "kernelspec": {
   "display_name": "Python 3",
   "language": "python",
   "name": "python3"
  },
  "language_info": {
   "codemirror_mode": {
    "name": "ipython",
    "version": 3
   },
   "file_extension": ".py",
   "mimetype": "text/x-python",
   "name": "python",
   "nbconvert_exporter": "python",
   "pygments_lexer": "ipython3",
   "version": "3.6.9"
  }
 },
 "nbformat": 4,
 "nbformat_minor": 4
}
