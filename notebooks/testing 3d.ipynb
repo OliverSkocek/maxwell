{
 "cells": [
  {
   "cell_type": "code",
   "execution_count": 1,
   "id": "ddabae07",
   "metadata": {},
   "outputs": [],
   "source": [
    "import tensorflow as tf\n",
    "import numpy as np\n",
    "from matplotlib import pyplot as plt\n",
    "from tensorflow.nn import convolution\n",
    "\n",
    "from celluloid import Camera\n",
    "from matplotlib import animation, rc\n",
    "from IPython.display import HTML\n",
    "from IPython.display import clear_output\n",
    "from time import time\n",
    "from scipy.special import factorial"
   ]
  },
  {
   "cell_type": "code",
   "execution_count": 2,
   "id": "7f2f33b8",
   "metadata": {},
   "outputs": [],
   "source": [
    "import os\n",
    "import sys\n",
    "module_path = os.path.abspath(os.path.join('..'))\n",
    "if module_path not in sys.path:\n",
    "    sys.path.append(module_path)"
   ]
  },
  {
   "cell_type": "code",
   "execution_count": 3,
   "id": "6de73fc1",
   "metadata": {},
   "outputs": [],
   "source": [
    "from FiniteDifferences.Maxwell3d import Maxwell3DFiniteDifference, DifferenceType"
   ]
  },
  {
   "cell_type": "code",
   "execution_count": 4,
   "id": "defd598c",
   "metadata": {},
   "outputs": [],
   "source": [
    "mwell = Maxwell3DFiniteDifference(mesh_size=0.01, step_size=1e-3, frame_rate=60,\n",
    "                                 diff_type=DifferenceType.FORWARD_DIFFERENCE)"
   ]
  },
  {
   "cell_type": "code",
   "execution_count": 5,
   "id": "04159fd7",
   "metadata": {},
   "outputs": [],
   "source": [
    "charge_density_callable = lambda x,y, z: 0\n",
    "electric_field_callable = lambda x,y, z: np.zeros((3,))\n",
    "magnetic_field_callable = lambda x, y, z: np.array([0,0,np.exp(-np.sum(np.square((np.array([x - 0.5, y- 0.5, z-0.5]).reshape((3,1,1)))/0.1), axis=0))[0,0]])"
   ]
  },
  {
   "cell_type": "code",
   "execution_count": null,
   "id": "fd785577",
   "metadata": {},
   "outputs": [],
   "source": [
    "B, E, I, p = mwell.evolve(magnetic_field_callable, \n",
    "                          electric_field_callable, \n",
    "                          charge_density_callable, \n",
    "                          integration_period=1,\n",
    "                          order=10,\n",
    "                          video=True)"
   ]
  },
  {
   "cell_type": "code",
   "execution_count": null,
   "id": "44e84dc3",
   "metadata": {},
   "outputs": [],
   "source": [
    "plt.imshow(np.max(B[:,:,:,1],axis=2))"
   ]
  },
  {
   "cell_type": "code",
   "execution_count": null,
   "id": "840c30ed",
   "metadata": {},
   "outputs": [],
   "source": [
    "u=np.squeeze(convolution(B.reshape(1,100,100,100,3), filters=mwell._ampere_filter,padding=\"SAME\").numpy())"
   ]
  },
  {
   "cell_type": "code",
   "execution_count": null,
   "id": "70e950df",
   "metadata": {},
   "outputs": [],
   "source": [
    "plt.imshow(np.max(u[:,:,:,1],axis=2))"
   ]
  },
  {
   "cell_type": "code",
   "execution_count": null,
   "id": "96f920b5",
   "metadata": {},
   "outputs": [],
   "source": [
    "mwell._ampere_filter[:,:,1,0,2]"
   ]
  },
  {
   "cell_type": "code",
   "execution_count": null,
   "id": "b959b304",
   "metadata": {},
   "outputs": [],
   "source": [
    "mwell._faraday_filter[:,:,1,1,2]"
   ]
  },
  {
   "cell_type": "code",
   "execution_count": null,
   "id": "f8f51be3",
   "metadata": {},
   "outputs": [],
   "source": [
    "e=E[:, :, 50, :2]"
   ]
  },
  {
   "cell_type": "code",
   "execution_count": null,
   "id": "22e64a01",
   "metadata": {},
   "outputs": [],
   "source": [
    "arrow_num = int(e.shape[0] // 20)\n",
    "plt.quiver(np.linspace(0, 1, int(e.shape[0] / arrow_num)),\n",
    "                              np.linspace(0, 1, int(e.shape[0] / arrow_num)),\n",
    "                              e[::arrow_num, ::arrow_num, 0],\n",
    "                              e[::arrow_num, ::arrow_num, 1],\n",
    "                              scale=0.2)"
   ]
  },
  {
   "cell_type": "code",
   "execution_count": null,
   "id": "d8e6270b",
   "metadata": {},
   "outputs": [],
   "source": []
  }
 ],
 "metadata": {
  "kernelspec": {
   "display_name": "Python 3",
   "language": "python",
   "name": "python3"
  },
  "language_info": {
   "codemirror_mode": {
    "name": "ipython",
    "version": 3
   },
   "file_extension": ".py",
   "mimetype": "text/x-python",
   "name": "python",
   "nbconvert_exporter": "python",
   "pygments_lexer": "ipython3",
   "version": "3.9.5"
  }
 },
 "nbformat": 4,
 "nbformat_minor": 5
}
