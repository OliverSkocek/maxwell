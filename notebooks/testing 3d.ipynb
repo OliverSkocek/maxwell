{
 "cells": [
  {
   "cell_type": "code",
   "execution_count": 1,
   "id": "ddabae07",
   "metadata": {},
   "outputs": [],
   "source": [
    "import tensorflow as tf\n",
    "import numpy as np\n",
    "from matplotlib import pyplot as plt\n",
    "from tensorflow.nn import convolution\n",
    "\n",
    "from celluloid import Camera\n",
    "from matplotlib import animation, rc\n",
    "from IPython.display import HTML\n",
    "from IPython.display import clear_output\n",
    "from time import time\n",
    "from scipy.special import factorial"
   ]
  },
  {
   "cell_type": "code",
   "execution_count": 2,
   "id": "7f2f33b8",
   "metadata": {},
   "outputs": [],
   "source": [
    "import os\n",
    "import sys\n",
    "module_path = os.path.abspath(os.path.join('..'))\n",
    "if module_path not in sys.path:\n",
    "    sys.path.append(module_path)"
   ]
  },
  {
   "cell_type": "code",
   "execution_count": 3,
   "id": "6de73fc1",
   "metadata": {},
   "outputs": [],
   "source": [
    "from FiniteDifferences.Maxwell3d import Maxwell3DFiniteDifference, DifferenceType"
   ]
  },
  {
   "cell_type": "code",
   "execution_count": 4,
   "id": "defd598c",
   "metadata": {},
   "outputs": [],
   "source": [
    "mwell = Maxwell3DFiniteDifference(mesh_size=0.01, step_size=1e-3, frame_rate=30,\n",
    "                                 diff_type=DifferenceType.FORWARD_DIFFERENCE)"
   ]
  },
  {
   "cell_type": "code",
   "execution_count": 5,
   "id": "04159fd7",
   "metadata": {},
   "outputs": [],
   "source": [
    "charge_density_callable = lambda x,y, z: 0\n",
    "electric_field_callable = lambda x,y, z: np.zeros((3,))\n",
    "magnetic_field_callable = lambda x, y, z: np.array([0, 0, np.exp(-np.sum(np.square((np.array([x - 0.4, y- 0.5, z - 0.5]).reshape((3,1,1)))/0.06), axis=0))[0,0]])"
   ]
  },
  {
   "cell_type": "code",
   "execution_count": null,
   "id": "fd785577",
   "metadata": {},
   "outputs": [],
   "source": [
    "B, E, I, p = mwell.evolve(magnetic_field_callable, \n",
    "                          electric_field_callable, \n",
    "                          charge_density_callable, \n",
    "                          integration_period=0.00,\n",
    "                          order=2,\n",
    "                          video=True,\n",
    "                         )"
   ]
  },
  {
   "cell_type": "code",
   "execution_count": null,
   "id": "c01293c0",
   "metadata": {},
   "outputs": [],
   "source": [
    "plt.imshow(np.max(B[:,:,:,1],axis=1))"
   ]
  },
  {
   "cell_type": "code",
   "execution_count": null,
   "id": "cfcf76fe",
   "metadata": {},
   "outputs": [],
   "source": [
    "db=tf.squeeze(convolution(E.reshape(1,100,100,100,3), filters=mwell._faraday_filter, padding='SAME')).numpy()"
   ]
  },
  {
   "cell_type": "code",
   "execution_count": null,
   "id": "6cd08999",
   "metadata": {},
   "outputs": [],
   "source": [
    "plt.imshow(np.max(E[:,:,:,0],axis=2))"
   ]
  },
  {
   "cell_type": "code",
   "execution_count": null,
   "id": "f8b7b5e0",
   "metadata": {},
   "outputs": [],
   "source": [
    "def conductivity(x, y, z):\n",
    "    if 2e-2 < x < 1 - 2e-2 and 2e-2 < y < 1 - 2e-2 and 2e-2 < z < 1 - 2e-2:\n",
    "        return 0.0\n",
    "    else:\n",
    "        return 1e3\n",
    "    \n",
    "def permeability(x, y, z):\n",
    "    if 2e-2 < x < 1 - 2e-2 and 2e-2 < y < 1 - 2e-2 and 2e-2 < z < 1 - 2e-2:\n",
    "        return 1.0\n",
    "    else:\n",
    "        return 8e-1"
   ]
  },
  {
   "cell_type": "code",
   "execution_count": null,
   "id": "23f3c511",
   "metadata": {},
   "outputs": [],
   "source": [
    "mwell = Maxwell3DFiniteDifference(conductivity=conductivity, \n",
    "                                  permeability=permeability, \n",
    "                                  diff_type=DifferenceType.FORWARD_DIFFERENCE,\n",
    "                                  mesh_size=0.01, step_size=1e-3, frame_rate=30)"
   ]
  },
  {
   "cell_type": "code",
   "execution_count": null,
   "id": "5b9e1d93",
   "metadata": {},
   "outputs": [],
   "source": [
    "B, E, I, p = mwell.evolve(magnetic_field_callable, \n",
    "                          electric_field_callable, \n",
    "                          charge_density_callable, \n",
    "                          \n",
    "                          integration_period=2,\n",
    "                          order=2,\n",
    "                          video=True)"
   ]
  },
  {
   "cell_type": "code",
   "execution_count": null,
   "id": "e631a1ae",
   "metadata": {},
   "outputs": [],
   "source": [
    "plt.imshow(np.max(p,axis=1))"
   ]
  },
  {
   "cell_type": "code",
   "execution_count": null,
   "id": "2a9008cf",
   "metadata": {},
   "outputs": [],
   "source": [
    "plt.imshow(np.max(B[:,:,:,2],axis=1))"
   ]
  },
  {
   "cell_type": "code",
   "execution_count": null,
   "id": "7f3c7a4c",
   "metadata": {},
   "outputs": [],
   "source": [
    "np.max(p,axis=1)[20,20]"
   ]
  },
  {
   "cell_type": "code",
   "execution_count": null,
   "id": "46b90ab5",
   "metadata": {},
   "outputs": [],
   "source": []
  },
  {
   "cell_type": "code",
   "execution_count": null,
   "id": "551a0fe6",
   "metadata": {},
   "outputs": [],
   "source": []
  },
  {
   "cell_type": "code",
   "execution_count": null,
   "id": "7695038a",
   "metadata": {},
   "outputs": [],
   "source": [
    "np.squeeze(mwell._g)[20,:,20]"
   ]
  },
  {
   "cell_type": "code",
   "execution_count": null,
   "id": "b8b75478",
   "metadata": {},
   "outputs": [],
   "source": []
  }
 ],
 "metadata": {
  "kernelspec": {
   "display_name": "Python 3",
   "language": "python",
   "name": "python3"
  },
  "language_info": {
   "codemirror_mode": {
    "name": "ipython",
    "version": 3
   },
   "file_extension": ".py",
   "mimetype": "text/x-python",
   "name": "python",
   "nbconvert_exporter": "python",
   "pygments_lexer": "ipython3",
   "version": "3.9.5"
  }
 },
 "nbformat": 4,
 "nbformat_minor": 5
}
