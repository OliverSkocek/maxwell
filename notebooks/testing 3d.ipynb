{
 "cells": [
  {
   "cell_type": "code",
   "execution_count": 1,
   "id": "ddabae07",
   "metadata": {},
   "outputs": [],
   "source": [
    "import tensorflow as tf\n",
    "import numpy as np\n",
    "from matplotlib import pyplot as plt\n",
    "from tensorflow.nn import convolution\n",
    "\n",
    "from celluloid import Camera\n",
    "from matplotlib import animation, rc\n",
    "from IPython.display import HTML\n",
    "from IPython.display import clear_output\n",
    "from time import time\n",
    "from scipy.special import factorial"
   ]
  },
  {
   "cell_type": "code",
   "execution_count": 2,
   "id": "7f2f33b8",
   "metadata": {},
   "outputs": [],
   "source": [
    "import os\n",
    "import sys\n",
    "module_path = os.path.abspath(os.path.join('..'))\n",
    "if module_path not in sys.path:\n",
    "    sys.path.append(module_path)"
   ]
  },
  {
   "cell_type": "code",
   "execution_count": 3,
   "id": "6de73fc1",
   "metadata": {},
   "outputs": [],
   "source": [
    "from FiniteDifferences.Maxwell3d import Maxwell3DFiniteDifference, DifferenceType"
   ]
  },
  {
   "cell_type": "code",
   "execution_count": 4,
   "id": "defd598c",
   "metadata": {},
   "outputs": [],
   "source": [
    "mwell = Maxwell3DFiniteDifference(mesh_size=0.01, step_size=1e-3, frame_rate=60,\n",
    "                                 diff_type=DifferenceType.FORWARD_DIFFERENCE)"
   ]
  },
  {
   "cell_type": "code",
   "execution_count": 5,
   "id": "04159fd7",
   "metadata": {},
   "outputs": [],
   "source": [
    "charge_density_callable = lambda x,y, z: 0\n",
    "electric_field_callable = lambda x,y, z: np.zeros((3,))\n",
    "magnetic_field_callable = lambda x, y, z: np.array([0,0,np.exp(-np.sum(np.square((np.array([x - 0.5, y- 0.5, z-0.5]).reshape((3,1,1)))/0.1), axis=0))[0,0]])"
   ]
  },
  {
   "cell_type": "code",
   "execution_count": null,
   "id": "fd785577",
   "metadata": {},
   "outputs": [],
   "source": [
    "B, E, I, p = mwell.evolve(magnetic_field_callable, \n",
    "                          electric_field_callable, \n",
    "                          charge_density_callable, \n",
    "                          integration_period=0.005,\n",
    "                          order=2,\n",
    "                          video=True)"
   ]
  },
  {
   "cell_type": "code",
   "execution_count": null,
   "id": "83764ba4",
   "metadata": {},
   "outputs": [],
   "source": [
    "import matplotlib.pyplot as plt\n",
    "import numpy as np\n",
    "\n",
    "ax = plt.figure().add_subplot(projection='3d')\n",
    "x, y, z = np.meshgrid(np.linspace(0, 1, 10),\n",
    "                      np.linspace(0, 1, 10),\n",
    "                      np.linspace(0, 1, 10))\n",
    "ax.quiver(x, y, z,B[::10,::10,::10,0], B[::10,::10,::10,1], B[::10,::10,::10,2], length=0.1, normalize=True)\n",
    "plt.show()"
   ]
  },
  {
   "cell_type": "code",
   "execution_count": null,
   "id": "14b2274c",
   "metadata": {},
   "outputs": [],
   "source": [
    "ax.quiver?"
   ]
  },
  {
   "cell_type": "code",
   "execution_count": null,
   "id": "c5984dca",
   "metadata": {},
   "outputs": [],
   "source": [
    "import matplotlib.pyplot as plt\n",
    "import numpy as np\n",
    "\n",
    "fig = plt.figure(figsize=(16,16))\n",
    "x, y, z = np.meshgrid(np.linspace(0, 1, 10),\n",
    "                      np.linspace(0, 1, 10),\n",
    "                      np.linspace(0, 1, 10))\n",
    "\n",
    "ax = fig.add_subplot(1,3,1,projection='3d')\n",
    "ax.quiver(x, y, z,E[::10,::10,::10,0], E[::10,::10,::10,1], E[::10,::10,::10,2], length=0.1, normalize=True)\n",
    "ax = fig.add_subplot(1,3,2,projection='3d')\n",
    "ax.quiver(x, y, z,B[::10,::10,::10,0], B[::10,::10,::10,1], B[::10,::10,::10,2], length=0.1, normalize=True)\n",
    "ax = fig.add_subplot(1,3,3,projection='3d')\n",
    "ax.quiver(x, y, z,B[::10,::10,::10,0], B[::10,::10,::10,1], B[::10,::10,::10,2], length=0.1, normalize=True)\n",
    "plt.show()"
   ]
  },
  {
   "cell_type": "code",
   "execution_count": null,
   "id": "f5b22564",
   "metadata": {},
   "outputs": [],
   "source": [
    "fig.add_subplot?"
   ]
  },
  {
   "cell_type": "code",
   "execution_count": null,
   "id": "76d66284",
   "metadata": {},
   "outputs": [],
   "source": [
    "import matplotlib.pyplot as plt\n",
    "from matplotlib import cm\n",
    "import numpy as np\n",
    "\n",
    "from mpl_toolkits.mplot3d.axes3d import get_test_data\n",
    "\n",
    "\n",
    "# set up a figure twice as wide as it is tall\n",
    "fig = plt.figure(figsize=plt.figaspect(1))\n",
    "\n",
    "#===============\n",
    "#  First subplot\n",
    "#===============\n",
    "# set up the axes for the first plot\n",
    "ax = fig.add_subplot(projection='3d')\n",
    "\n",
    "# plot a 3D surface like in the example mplot3d/surface3d_demo\n",
    "X = np.arange(-5, 5, 0.25)\n",
    "Y = np.arange(-5, 5, 0.25)\n",
    "X, Y = np.meshgrid(X, Y)\n",
    "R = np.sqrt(X**2 + Y**2)\n",
    "Z = np.sin(R)\n",
    "surf = ax.plot_surface(X, Y, Z, rstride=1, cstride=1, cmap=cm.coolwarm,\n",
    "                       linewidth=0, antialiased=False)\n",
    "ax.set_zlim(-1.01, 1.01)\n",
    "fig.colorbar(surf, shrink=0.5, aspect=10)\n",
    "\n",
    "#===============\n",
    "# Second subplot\n",
    "#===============\n",
    "# set up the axes for the second plot\n",
    "ax = fig.add_subplot(projection='3d')\n",
    "\n",
    "# plot a 3D wireframe like in the example mplot3d/wire3d_demo\n",
    "X, Y, Z = get_test_data(0.05)\n",
    "ax.plot_wireframe(X, Y, Z, rstride=10, cstride=10)\n",
    "\n",
    "plt.show()\n"
   ]
  },
  {
   "cell_type": "code",
   "execution_count": null,
   "id": "57625fbf",
   "metadata": {},
   "outputs": [],
   "source": []
  },
  {
   "cell_type": "code",
   "execution_count": null,
   "id": "f8b7b5e0",
   "metadata": {},
   "outputs": [],
   "source": [
    "def conductivity(x, y, z):\n",
    "    if 2e-2 < x < 1 - 2e-2 and 2e-2 < y < 1 - 2e-2 and 2e-2 < z < 1 - 2e-2:\n",
    "        return 0.0\n",
    "    else:\n",
    "        return 1e3\n",
    "    \n",
    "def permeability(x, y, z):\n",
    "    if 2e-2 < x < 1 - 2e-2 and 2e-2 < y < 1 - 2e-2 and 2e-2 < z < 1 - 2e-2:\n",
    "        return 1.0\n",
    "    else:\n",
    "        return 8e-1"
   ]
  },
  {
   "cell_type": "code",
   "execution_count": null,
   "id": "23f3c511",
   "metadata": {},
   "outputs": [],
   "source": [
    "mwell = Maxwell3DFiniteDifference(conductivity=conductivity, \n",
    "                                  permeability=permeability, \n",
    "                                  diff_type=DifferenceType.FORWARD_DIFFERENCE,\n",
    "                                  mesh_size=0.01, step_size=1e-3, frame_rate=60)"
   ]
  },
  {
   "cell_type": "code",
   "execution_count": null,
   "id": "5b9e1d93",
   "metadata": {},
   "outputs": [],
   "source": [
    "B, E, I, p = mwell.evolve(magnetic_field_callable, \n",
    "                          electric_field_callable, \n",
    "                          charge_density_callable, \n",
    "                          \n",
    "                          integration_period=10,\n",
    "                          order=2,\n",
    "                          video=True)"
   ]
  },
  {
   "cell_type": "code",
   "execution_count": null,
   "id": "e631a1ae",
   "metadata": {},
   "outputs": [],
   "source": [
    "plt.imshow(np.max(p,axis=1))"
   ]
  },
  {
   "cell_type": "code",
   "execution_count": null,
   "id": "7f3c7a4c",
   "metadata": {},
   "outputs": [],
   "source": [
    "np.max(p,axis=1)[20,20]"
   ]
  },
  {
   "cell_type": "code",
   "execution_count": null,
   "id": "7695038a",
   "metadata": {},
   "outputs": [],
   "source": [
    "np.squeeze(mwell._g)[20,:,20]"
   ]
  },
  {
   "cell_type": "code",
   "execution_count": null,
   "id": "b8b75478",
   "metadata": {},
   "outputs": [],
   "source": []
  }
 ],
 "metadata": {
  "kernelspec": {
   "display_name": "Python 3",
   "language": "python",
   "name": "python3"
  },
  "language_info": {
   "codemirror_mode": {
    "name": "ipython",
    "version": 3
   },
   "file_extension": ".py",
   "mimetype": "text/x-python",
   "name": "python",
   "nbconvert_exporter": "python",
   "pygments_lexer": "ipython3",
   "version": "3.9.5"
  }
 },
 "nbformat": 4,
 "nbformat_minor": 5
}
