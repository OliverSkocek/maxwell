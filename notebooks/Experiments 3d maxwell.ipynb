{
 "cells": [
  {
   "cell_type": "code",
   "execution_count": 2,
   "id": "9b49a1ce",
   "metadata": {},
   "outputs": [],
   "source": [
    "import numpy as np\n",
    "from matplotlib import pyplot as plt\n",
    "import tensorflow as tf\n",
    "from tensorflow.nn import convolution\n"
   ]
  },
  {
   "cell_type": "code",
   "execution_count": 3,
   "id": "4b4eb7d4",
   "metadata": {},
   "outputs": [],
   "source": [
    "X = np.array([[0,0,0], [-1,1,0], [0,0,0]])\n",
    "\n",
    "Z1 = np.concatenate([np.zeros((3,3,1)), X.reshape(3,3,1), np.zeros((3,3,1))], axis=2)\n",
    "\n",
    "X = np.array([[0,1,0], [0,-1,0], [0,0,0]])\n",
    "\n",
    "Z2 = np.concatenate([np.zeros((3,3,1)), X.reshape(3,3,1), np.zeros((3,3,1))], axis=2)\n",
    "\n",
    "F1 = np.concatenate([Z1.reshape(3,3,3,1), Z2.reshape(3,3,3,1), np.zeros((3,3,3, 1))], axis=3)"
   ]
  },
  {
   "cell_type": "code",
   "execution_count": 4,
   "id": "524ac0d6",
   "metadata": {},
   "outputs": [],
   "source": [
    "X = np.array([[0,0,0], [0,1,0], [0,0,0]])\n",
    "Y = np.array([[0,0,0], [0,-1,0], [0,0,0]])\n",
    "\n",
    "Z1 = np.concatenate([X.reshape(3,3,1), Y.reshape(3,3,1), np.zeros((3,3,1))], axis=2)\n",
    "\n",
    "X = np.array([[0,0,0], [0,1,-1], [0,0,0]])\n",
    "\n",
    "Z2 = np.concatenate([np.zeros((3,3,1)), X.reshape(3,3,1), np.zeros((3,3,1))], axis=2)\n",
    "\n",
    "F2 = np.concatenate([Z1.reshape(3,3,3,1), np.zeros((3,3,3, 1)), Z2.reshape(3,3,3,1)], axis=3)"
   ]
  },
  {
   "cell_type": "code",
   "execution_count": 5,
   "id": "66c36d64",
   "metadata": {},
   "outputs": [],
   "source": [
    "X = np.array([[0,0,0], [0,-1,0], [0,0,0]])\n",
    "Y = np.array([[0,0,0], [0,1,0], [0,0,0]])\n",
    "\n",
    "Z1 = np.concatenate([X.reshape(3,3,1), Y.reshape(3,3,1), np.zeros((3,3,1))], axis=2)\n",
    "\n",
    "X = np.array([[0,0,0], [0,-1,0], [0,1,0]])\n",
    "\n",
    "Z2 = np.concatenate([np.zeros((3,3,1)), X.reshape(3,3,1), np.zeros((3,3,1))], axis=2)\n",
    "\n",
    "F3 = np.concatenate([np.zeros((3,3,3, 1)),Z1.reshape(3,3,3,1), Z2.reshape(3,3,3,1)], axis=3)"
   ]
  },
  {
   "cell_type": "code",
   "execution_count": 10,
   "id": "820dfd64",
   "metadata": {},
   "outputs": [],
   "source": [
    "faraday_filter = np.concatenate([F1.reshape(3,3,3,3,1), F2.reshape(3,3,3,3,1), F3.reshape(3,3,3,3,1)], axis=4)"
   ]
  },
  {
   "cell_type": "code",
   "execution_count": 11,
   "id": "e2dd6503",
   "metadata": {},
   "outputs": [],
   "source": [
    "E = tf.Variable(np.zeros((100,100,100,3)).reshape((1, 100, 100, 100, 3)), name='e_field', dtype=tf.float64)"
   ]
  },
  {
   "cell_type": "code",
   "execution_count": 12,
   "id": "3e7025ed",
   "metadata": {},
   "outputs": [
    {
     "data": {
      "text/plain": [
       "TensorShape([1, 100, 100, 100, 3])"
      ]
     },
     "execution_count": 12,
     "metadata": {},
     "output_type": "execute_result"
    }
   ],
   "source": [
    "convolution(E, filters=faraday_filter, padding='SAME').shape"
   ]
  },
  {
   "cell_type": "code",
   "execution_count": null,
   "id": "c2dd6812",
   "metadata": {},
   "outputs": [],
   "source": []
  }
 ],
 "metadata": {
  "kernelspec": {
   "display_name": "Python 3",
   "language": "python",
   "name": "python3"
  },
  "language_info": {
   "codemirror_mode": {
    "name": "ipython",
    "version": 3
   },
   "file_extension": ".py",
   "mimetype": "text/x-python",
   "name": "python",
   "nbconvert_exporter": "python",
   "pygments_lexer": "ipython3",
   "version": "3.9.5"
  }
 },
 "nbformat": 4,
 "nbformat_minor": 5
}
