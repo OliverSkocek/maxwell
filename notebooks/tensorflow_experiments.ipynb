{
 "cells": [
  {
   "cell_type": "code",
   "execution_count": 1,
   "id": "53492073",
   "metadata": {},
   "outputs": [],
   "source": [
    "import tensorflow as tf\n",
    "import numpy as np\n",
    "from matplotlib import pyplot as plt\n",
    "from tensorflow.nn import convolution, conv2d_transpose"
   ]
  },
  {
   "cell_type": "code",
   "execution_count": 15,
   "id": "e6104e96",
   "metadata": {},
   "outputs": [],
   "source": [
    "N = 1000\n",
    "dt = 0.01\n",
    "h = 1"
   ]
  },
  {
   "cell_type": "code",
   "execution_count": 16,
   "id": "f4d99f43",
   "metadata": {},
   "outputs": [],
   "source": [
    "A = -np.array([[0, -1, 0, 0], [-1, 0, 1, 0], [0, 1, 0, 0], [0, 0, 0, 0]])\n",
    "B = np.array([[0, 0, -1, 0], [0, 0, 0, 0], [0, 0, 1, 0], [0, 0, 0, 0]]) * h\n",
    "C = np.array([[0, 0, 0, 0], [0, 0, 0, 0], [1, 0, -1, 0], [0, 0, 0, 0]]) * h\n",
    "D = np.array([[0, 0, 0, 0], [0, 0, 1, 0], [0, -1, 0, 1], [0, 0, -1, 0]]) / h**2"
   ]
  },
  {
   "cell_type": "code",
   "execution_count": 17,
   "id": "c6b711cd",
   "metadata": {},
   "outputs": [],
   "source": [
    "_filt_0 = np.stack([B, C, D]).reshape(3,4,4,1).transpose((1, 2, 3, 0))\n",
    "_filt_1 = A.reshape(1,4,4,1).transpose((1, 2, 3, 0))\n",
    "\n",
    "jdx0=np.arange(1, 2 * N + 1, 2)\n",
    "jdx1=np.arange(2, 2 * N + 1, 2)"
   ]
  },
  {
   "cell_type": "code",
   "execution_count": null,
   "id": "a8e0577a",
   "metadata": {},
   "outputs": [],
   "source": []
  },
  {
   "cell_type": "code",
   "execution_count": null,
   "id": "6d66f761",
   "metadata": {},
   "outputs": [],
   "source": []
  },
  {
   "cell_type": "code",
   "execution_count": 18,
   "id": "d2ce24fb",
   "metadata": {},
   "outputs": [],
   "source": [
    "_X = np.zeros(shape=(2 * N + 2, 2 * N + 2))\n",
    "dX = _X * 0"
   ]
  },
  {
   "cell_type": "code",
   "execution_count": 19,
   "id": "3737b3c4",
   "metadata": {},
   "outputs": [
    {
     "data": {
      "text/plain": [
       "<matplotlib.image.AxesImage at 0x7f9a40e047f0>"
      ]
     },
     "execution_count": 19,
     "metadata": {},
     "output_type": "execute_result"
    },
    {
     "data": {
      "image/png": "[encoded data removed]",
      "text/plain": [
       "<Figure size 432x288 with 1 Axes>"
      ]
     },
     "metadata": {
      "needs_background": "light"
     },
     "output_type": "display_data"
    }
   ],
   "source": [
    "x = np.linspace(0,10,2002)\n",
    "mesh = np.stack(np.meshgrid(x, x))\n",
    "\n",
    "_X[jdx1.reshape(-1,1),jdx1.reshape(1,-1)] = np.exp(-np.sum(np.square(mesh-np.array([5,5]).reshape((2,1,1))), axis=0))[jdx1.reshape(-1,1),jdx1.reshape(1,-1)]\n",
    "\n",
    "plt.imshow((_X))"
   ]
  },
  {
   "cell_type": "code",
   "execution_count": 20,
   "id": "ca83d5de",
   "metadata": {},
   "outputs": [
    {
     "data": {
      "text/plain": [
       "(2, 2002, 2002)"
      ]
     },
     "execution_count": 20,
     "metadata": {},
     "output_type": "execute_result"
    }
   ],
   "source": [
    "mesh.shape"
   ]
  },
  {
   "cell_type": "code",
   "execution_count": 21,
   "id": "64618a92",
   "metadata": {},
   "outputs": [],
   "source": [
    "temp =np.arange(2 * N + 2)\n",
    "hu = np.vectorize(lambda x: x % 2>0)(temp.reshape(-1,1) + temp.reshape(1,-1))\n",
    "vu = np.vectorize(lambda x: x % 2==0)(temp.reshape(-1,1) + temp.reshape(1,-1))"
   ]
  },
  {
   "cell_type": "code",
   "execution_count": 22,
   "id": "139a8d93",
   "metadata": {},
   "outputs": [],
   "source": [
    "_R = _X.copy()*0 + 1\n",
    "_R[hu]=1000"
   ]
  },
  {
   "cell_type": "code",
   "execution_count": 23,
   "id": "4189cdd8",
   "metadata": {},
   "outputs": [],
   "source": [
    "mu=1\n",
    "eps=1"
   ]
  },
  {
   "cell_type": "code",
   "execution_count": 25,
   "id": "6a15217d",
   "metadata": {},
   "outputs": [],
   "source": [
    "filt_0= tf.constant(_filt_0, name='maxwell', dtype=tf.float64)\n",
    "filt_1= tf.constant(_filt_1, name='continuity', dtype=tf.float64)\n",
    "R= tf.constant(_R.reshape((1, 2 * N + 2, 2 * N + 2, 1)), name='resistance', dtype=tf.float64)\n",
    "X = tf.Variable(_X.reshape((1, 2 * N + 2, 2 * N + 2, 1)), name='X', dtype=tf.float64)"
   ]
  },
  {
   "cell_type": "code",
   "execution_count": 26,
   "id": "16cb18ca",
   "metadata": {},
   "outputs": [
    {
     "ename": "KeyboardInterrupt",
     "evalue": "",
     "output_type": "error",
     "traceback": [
      "\u001b[0;31m---------------------------------------------------------------------------\u001b[0m",
      "\u001b[0;31mKeyboardInterrupt\u001b[0m                         Traceback (most recent call last)",
      "\u001b[0;32m<ipython-input-26-f0776d8477b8>\u001b[0m in \u001b[0;36m<module>\u001b[0;34m\u001b[0m\n\u001b[1;32m      3\u001b[0m     \u001b[0my_1\u001b[0m \u001b[0;34m=\u001b[0m \u001b[0mtf\u001b[0m\u001b[0;34m.\u001b[0m\u001b[0msqueeze\u001b[0m\u001b[0;34m(\u001b[0m\u001b[0mconvolution\u001b[0m\u001b[0;34m(\u001b[0m\u001b[0mX\u001b[0m \u001b[0;34m/\u001b[0m \u001b[0mR\u001b[0m\u001b[0;34m,\u001b[0m \u001b[0mfilters\u001b[0m\u001b[0;34m=\u001b[0m\u001b[0mfilt_1\u001b[0m\u001b[0;34m,\u001b[0m \u001b[0mstrides\u001b[0m\u001b[0;34m=\u001b[0m\u001b[0;36m2\u001b[0m\u001b[0;34m,\u001b[0m \u001b[0mpadding\u001b[0m\u001b[0;34m=\u001b[0m\u001b[0;34m'VALID'\u001b[0m\u001b[0;34m)\u001b[0m\u001b[0;34m)\u001b[0m\u001b[0;34m\u001b[0m\u001b[0;34m\u001b[0m\u001b[0m\n\u001b[1;32m      4\u001b[0m \u001b[0;34m\u001b[0m\u001b[0m\n\u001b[0;32m----> 5\u001b[0;31m     \u001b[0mdX\u001b[0m\u001b[0;34m[\u001b[0m\u001b[0mjdx0\u001b[0m\u001b[0;34m.\u001b[0m\u001b[0mreshape\u001b[0m\u001b[0;34m(\u001b[0m\u001b[0;34m-\u001b[0m\u001b[0;36m1\u001b[0m\u001b[0;34m,\u001b[0m\u001b[0;36m1\u001b[0m\u001b[0;34m)\u001b[0m\u001b[0;34m,\u001b[0m\u001b[0mjdx0\u001b[0m\u001b[0;34m.\u001b[0m\u001b[0mreshape\u001b[0m\u001b[0;34m(\u001b[0m\u001b[0;36m1\u001b[0m\u001b[0;34m,\u001b[0m\u001b[0;34m-\u001b[0m\u001b[0;36m1\u001b[0m\u001b[0;34m)\u001b[0m\u001b[0;34m]\u001b[0m \u001b[0;34m=\u001b[0m \u001b[0my_1\u001b[0m\u001b[0;34m.\u001b[0m\u001b[0mnumpy\u001b[0m\u001b[0;34m(\u001b[0m\u001b[0;34m)\u001b[0m\u001b[0;34m\u001b[0m\u001b[0;34m\u001b[0m\u001b[0m\n\u001b[0m\u001b[1;32m      6\u001b[0m     \u001b[0mdX\u001b[0m\u001b[0;34m[\u001b[0m\u001b[0mjdx0\u001b[0m\u001b[0;34m.\u001b[0m\u001b[0mreshape\u001b[0m\u001b[0;34m(\u001b[0m\u001b[0;34m-\u001b[0m\u001b[0;36m1\u001b[0m\u001b[0;34m,\u001b[0m\u001b[0;36m1\u001b[0m\u001b[0;34m)\u001b[0m\u001b[0;34m,\u001b[0m\u001b[0mjdx1\u001b[0m\u001b[0;34m.\u001b[0m\u001b[0mreshape\u001b[0m\u001b[0;34m(\u001b[0m\u001b[0;36m1\u001b[0m\u001b[0;34m,\u001b[0m\u001b[0;34m-\u001b[0m\u001b[0;36m1\u001b[0m\u001b[0;34m)\u001b[0m\u001b[0;34m]\u001b[0m \u001b[0;34m=\u001b[0m \u001b[0my_0\u001b[0m\u001b[0;34m.\u001b[0m\u001b[0mnumpy\u001b[0m\u001b[0;34m(\u001b[0m\u001b[0;34m)\u001b[0m\u001b[0;34m[\u001b[0m\u001b[0;34m:\u001b[0m\u001b[0;34m,\u001b[0m \u001b[0;34m:\u001b[0m\u001b[0;34m,\u001b[0m \u001b[0;36m0\u001b[0m\u001b[0;34m]\u001b[0m\u001b[0;34m\u001b[0m\u001b[0;34m\u001b[0m\u001b[0m\n\u001b[1;32m      7\u001b[0m     \u001b[0mdX\u001b[0m\u001b[0;34m[\u001b[0m\u001b[0mjdx1\u001b[0m\u001b[0;34m.\u001b[0m\u001b[0mreshape\u001b[0m\u001b[0;34m(\u001b[0m\u001b[0;34m-\u001b[0m\u001b[0;36m1\u001b[0m\u001b[0;34m,\u001b[0m\u001b[0;36m1\u001b[0m\u001b[0;34m)\u001b[0m\u001b[0;34m,\u001b[0m\u001b[0mjdx0\u001b[0m\u001b[0;34m.\u001b[0m\u001b[0mreshape\u001b[0m\u001b[0;34m(\u001b[0m\u001b[0;36m1\u001b[0m\u001b[0;34m,\u001b[0m\u001b[0;34m-\u001b[0m\u001b[0;36m1\u001b[0m\u001b[0;34m)\u001b[0m\u001b[0;34m]\u001b[0m \u001b[0;34m=\u001b[0m \u001b[0my_0\u001b[0m\u001b[0;34m.\u001b[0m\u001b[0mnumpy\u001b[0m\u001b[0;34m(\u001b[0m\u001b[0;34m)\u001b[0m\u001b[0;34m[\u001b[0m\u001b[0;34m:\u001b[0m\u001b[0;34m,\u001b[0m \u001b[0;34m:\u001b[0m\u001b[0;34m,\u001b[0m \u001b[0;36m1\u001b[0m\u001b[0;34m]\u001b[0m\u001b[0;34m\u001b[0m\u001b[0;34m\u001b[0m\u001b[0m\n",
      "\u001b[0;32m~/anaconda3/envs/tf-gpu/lib/python3.9/site-packages/tensorflow/python/framework/ops.py\u001b[0m in \u001b[0;36mnumpy\u001b[0;34m(self)\u001b[0m\n\u001b[1;32m   1069\u001b[0m     \"\"\"\n\u001b[1;32m   1070\u001b[0m     \u001b[0;31m# TODO(slebedev): Consider avoiding a copy for non-CPU or remote tensors.\u001b[0m\u001b[0;34m\u001b[0m\u001b[0;34m\u001b[0m\u001b[0;34m\u001b[0m\u001b[0m\n\u001b[0;32m-> 1071\u001b[0;31m     \u001b[0mmaybe_arr\u001b[0m \u001b[0;34m=\u001b[0m \u001b[0mself\u001b[0m\u001b[0;34m.\u001b[0m\u001b[0m_numpy\u001b[0m\u001b[0;34m(\u001b[0m\u001b[0;34m)\u001b[0m  \u001b[0;31m# pylint: disable=protected-access\u001b[0m\u001b[0;34m\u001b[0m\u001b[0;34m\u001b[0m\u001b[0m\n\u001b[0m\u001b[1;32m   1072\u001b[0m     \u001b[0;32mreturn\u001b[0m \u001b[0mmaybe_arr\u001b[0m\u001b[0;34m.\u001b[0m\u001b[0mcopy\u001b[0m\u001b[0;34m(\u001b[0m\u001b[0;34m)\u001b[0m \u001b[0;32mif\u001b[0m \u001b[0misinstance\u001b[0m\u001b[0;34m(\u001b[0m\u001b[0mmaybe_arr\u001b[0m\u001b[0;34m,\u001b[0m \u001b[0mnp\u001b[0m\u001b[0;34m.\u001b[0m\u001b[0mndarray\u001b[0m\u001b[0;34m)\u001b[0m \u001b[0;32melse\u001b[0m \u001b[0mmaybe_arr\u001b[0m\u001b[0;34m\u001b[0m\u001b[0;34m\u001b[0m\u001b[0m\n\u001b[1;32m   1073\u001b[0m \u001b[0;34m\u001b[0m\u001b[0m\n",
      "\u001b[0;32m~/anaconda3/envs/tf-gpu/lib/python3.9/site-packages/tensorflow/python/framework/ops.py\u001b[0m in \u001b[0;36m_numpy\u001b[0;34m(self)\u001b[0m\n\u001b[1;32m   1035\u001b[0m   \u001b[0;32mdef\u001b[0m \u001b[0m_numpy\u001b[0m\u001b[0;34m(\u001b[0m\u001b[0mself\u001b[0m\u001b[0;34m)\u001b[0m\u001b[0;34m:\u001b[0m\u001b[0;34m\u001b[0m\u001b[0;34m\u001b[0m\u001b[0m\n\u001b[1;32m   1036\u001b[0m     \u001b[0;32mtry\u001b[0m\u001b[0;34m:\u001b[0m\u001b[0;34m\u001b[0m\u001b[0;34m\u001b[0m\u001b[0m\n\u001b[0;32m-> 1037\u001b[0;31m       \u001b[0;32mreturn\u001b[0m \u001b[0mself\u001b[0m\u001b[0;34m.\u001b[0m\u001b[0m_numpy_internal\u001b[0m\u001b[0;34m(\u001b[0m\u001b[0;34m)\u001b[0m\u001b[0;34m\u001b[0m\u001b[0;34m\u001b[0m\u001b[0m\n\u001b[0m\u001b[1;32m   1038\u001b[0m     \u001b[0;32mexcept\u001b[0m \u001b[0mcore\u001b[0m\u001b[0;34m.\u001b[0m\u001b[0m_NotOkStatusException\u001b[0m \u001b[0;32mas\u001b[0m \u001b[0me\u001b[0m\u001b[0;34m:\u001b[0m  \u001b[0;31m# pylint: disable=protected-access\u001b[0m\u001b[0;34m\u001b[0m\u001b[0;34m\u001b[0m\u001b[0m\n\u001b[1;32m   1039\u001b[0m       \u001b[0msix\u001b[0m\u001b[0;34m.\u001b[0m\u001b[0mraise_from\u001b[0m\u001b[0;34m(\u001b[0m\u001b[0mcore\u001b[0m\u001b[0;34m.\u001b[0m\u001b[0m_status_to_exception\u001b[0m\u001b[0;34m(\u001b[0m\u001b[0me\u001b[0m\u001b[0;34m.\u001b[0m\u001b[0mcode\u001b[0m\u001b[0;34m,\u001b[0m \u001b[0me\u001b[0m\u001b[0;34m.\u001b[0m\u001b[0mmessage\u001b[0m\u001b[0;34m)\u001b[0m\u001b[0;34m,\u001b[0m \u001b[0;32mNone\u001b[0m\u001b[0;34m)\u001b[0m  \u001b[0;31m# pylint: disable=protected-access\u001b[0m\u001b[0;34m\u001b[0m\u001b[0;34m\u001b[0m\u001b[0m\n",
      "\u001b[0;31mKeyboardInterrupt\u001b[0m: "
     ]
    }
   ],
   "source": [
    "for jter in range(10000):\n",
    "    y_0 = tf.squeeze(convolution(X, filters=filt_0, strides=2, padding='VALID'))\n",
    "    y_1 = tf.squeeze(convolution(X / R, filters=filt_1, strides=2, padding='VALID'))\n",
    "\n",
    "    dX[jdx0.reshape(-1,1),jdx0.reshape(1,-1)] = y_1.numpy()\n",
    "    dX[jdx0.reshape(-1,1),jdx1.reshape(1,-1)] = y_0.numpy()[:, :, 0]\n",
    "    dX[jdx1.reshape(-1,1),jdx0.reshape(1,-1)] = y_0.numpy()[:, :, 1]\n",
    "    dX[jdx1.reshape(-1,1),jdx1.reshape(1,-1)] = y_0.numpy()[:, :, 2]\n",
    "\n",
    "    X.assign_add(dt * dX.reshape((1, 2 * N + 2, 2 * N + 2, 1)) / mu / eps)\n"
   ]
  },
  {
   "cell_type": "code",
   "execution_count": 30,
   "id": "12cf124f",
   "metadata": {},
   "outputs": [
    {
     "data": {
      "text/plain": [
       "<matplotlib.image.AxesImage at 0x7f9a40c15850>"
      ]
     },
     "execution_count": 30,
     "metadata": {},
     "output_type": "execute_result"
    },
    {
     "data": {
      "image/png": "[encoded data removed]",
      "text/plain": [
       "<Figure size 432x288 with 1 Axes>"
      ]
     },
     "metadata": {
      "needs_background": "light"
     },
     "output_type": "display_data"
    }
   ],
   "source": [
    "plt.imshow(np.squeeze(X))"
   ]
  },
  {
   "cell_type": "code",
   "execution_count": 43,
   "id": "1dd2828e",
   "metadata": {},
   "outputs": [
    {
     "ename": "IndexError",
     "evalue": "too many indices for array: array is 0-dimensional, but 3 were indexed",
     "output_type": "error",
     "traceback": [
      "\u001b[0;31m---------------------------------------------------------------------------\u001b[0m",
      "\u001b[0;31mIndexError\u001b[0m                                Traceback (most recent call last)",
      "\u001b[0;32m<ipython-input-43-cbd3d5f341a0>\u001b[0m in \u001b[0;36m<module>\u001b[0;34m\u001b[0m\n\u001b[0;32m----> 1\u001b[0;31m \u001b[0mplt\u001b[0m\u001b[0;34m.\u001b[0m\u001b[0mimshow\u001b[0m\u001b[0;34m(\u001b[0m\u001b[0mnp\u001b[0m\u001b[0;34m.\u001b[0m\u001b[0msqueeze\u001b[0m\u001b[0;34m(\u001b[0m\u001b[0my_0\u001b[0m\u001b[0;34m.\u001b[0m\u001b[0mnumpy\u001b[0m\u001b[0;34m)\u001b[0m\u001b[0;34m[\u001b[0m\u001b[0;34m:\u001b[0m\u001b[0;34m,\u001b[0m\u001b[0;34m:\u001b[0m\u001b[0;34m,\u001b[0m\u001b[0;36m0\u001b[0m\u001b[0;34m]\u001b[0m\u001b[0;34m)\u001b[0m\u001b[0;34m\u001b[0m\u001b[0;34m\u001b[0m\u001b[0m\n\u001b[0m",
      "\u001b[0;31mIndexError\u001b[0m: too many indices for array: array is 0-dimensional, but 3 were indexed"
     ]
    }
   ],
   "source": [
    "plt.imshow(np.squeeze(y_0.numpy)[:,:,0])"
   ]
  },
  {
   "cell_type": "code",
   "execution_count": 26,
   "id": "158c3eda",
   "metadata": {},
   "outputs": [],
   "source": [
    "x=np.squeeze(y_0.numpy())"
   ]
  },
  {
   "cell_type": "code",
   "execution_count": 31,
   "id": "d4cfe0f2",
   "metadata": {},
   "outputs": [
    {
     "data": {
      "text/plain": [
       "array([0.00000000e+00, 1.00003911e-06, 1.00005899e-06, ...,\n",
       "       8.57272766e-03, 8.57273246e-03, 8.57315588e-03])"
      ]
     },
     "execution_count": 31,
     "metadata": {},
     "output_type": "execute_result"
    }
   ],
   "source": [
    "np.unique(x)"
   ]
  },
  {
   "cell_type": "code",
   "execution_count": null,
   "id": "d3ad46d8",
   "metadata": {},
   "outputs": [],
   "source": [
    "dX"
   ]
  },
  {
   "cell_type": "code",
   "execution_count": null,
   "id": "4c95a4c3",
   "metadata": {},
   "outputs": [],
   "source": [
    "tf.Session().run?"
   ]
  },
  {
   "cell_type": "code",
   "execution_count": null,
   "id": "85cf607f",
   "metadata": {},
   "outputs": [],
   "source": [
    "tf.Session().run"
   ]
  },
  {
   "cell_type": "code",
   "execution_count": null,
   "id": "88892d7d",
   "metadata": {},
   "outputs": [],
   "source": []
  },
  {
   "cell_type": "code",
   "execution_count": null,
   "id": "03e71c68",
   "metadata": {},
   "outputs": [],
   "source": [
    "Z=tf.squeeze(X)"
   ]
  },
  {
   "cell_type": "code",
   "execution_count": null,
   "id": "c332dc48",
   "metadata": {},
   "outputs": [],
   "source": [
    "tf.Tensor?"
   ]
  },
  {
   "cell_type": "code",
   "execution_count": null,
   "id": "f16c3d4d",
   "metadata": {},
   "outputs": [],
   "source": [
    "Z[1::2,1::2]=y_0"
   ]
  },
  {
   "cell_type": "code",
   "execution_count": null,
   "id": "0890732c",
   "metadata": {},
   "outputs": [],
   "source": [
    "tf.tile?"
   ]
  },
  {
   "cell_type": "code",
   "execution_count": null,
   "id": "2f1fa471",
   "metadata": {},
   "outputs": [],
   "source": [
    "_R = _R*0"
   ]
  },
  {
   "cell_type": "code",
   "execution_count": null,
   "id": "16ea2967",
   "metadata": {},
   "outputs": [],
   "source": [
    "_R[jdx1.reshape(-1,1), jdx1.reshape(1,-1)]=1"
   ]
  },
  {
   "cell_type": "code",
   "execution_count": null,
   "id": "bd68c38b",
   "metadata": {},
   "outputs": [],
   "source": [
    "_R"
   ]
  },
  {
   "cell_type": "code",
   "execution_count": null,
   "id": "7365acb4",
   "metadata": {},
   "outputs": [],
   "source": []
  },
  {
   "cell_type": "code",
   "execution_count": null,
   "id": "f1d7a86b",
   "metadata": {},
   "outputs": [],
   "source": []
  },
  {
   "cell_type": "code",
   "execution_count": null,
   "id": "be7d9a44",
   "metadata": {},
   "outputs": [],
   "source": [
    "    "
   ]
  },
  {
   "cell_type": "code",
   "execution_count": null,
   "id": "b7598fff",
   "metadata": {},
   "outputs": [],
   "source": [
    "y.shape"
   ]
  },
  {
   "cell_type": "code",
   "execution_count": null,
   "id": "f30ebe32",
   "metadata": {},
   "outputs": [],
   "source": [
    "x = tf.zeros(shape=(1,12,12,1), dtype=tf.float32)"
   ]
  },
  {
   "cell_type": "code",
   "execution_count": null,
   "id": "fe166d0b",
   "metadata": {},
   "outputs": [],
   "source": [
    "ff = tf.reshape(tf.constant([[0,-1],[1,0]], dtype=tf.float32), (2,2,1,1))"
   ]
  },
  {
   "cell_type": "code",
   "execution_count": null,
   "id": "9452a06a",
   "metadata": {},
   "outputs": [],
   "source": [
    "ff"
   ]
  },
  {
   "cell_type": "code",
   "execution_count": null,
   "id": "a631d153",
   "metadata": {},
   "outputs": [],
   "source": [
    "y=convolution(x, ff, 'SAME')"
   ]
  },
  {
   "cell_type": "code",
   "execution_count": null,
   "id": "deea9d92",
   "metadata": {},
   "outputs": [],
   "source": [
    "print(y)"
   ]
  },
  {
   "cell_type": "code",
   "execution_count": null,
   "id": "4fe016a7",
   "metadata": {},
   "outputs": [],
   "source": [
    "with  tf.Session() as sess:\n",
    "    print(sess.run(y))"
   ]
  },
  {
   "cell_type": "code",
   "execution_count": null,
   "id": "ce2dd292",
   "metadata": {},
   "outputs": [],
   "source": [
    "y"
   ]
  },
  {
   "cell_type": "code",
   "execution_count": null,
   "id": "cbea7dfe",
   "metadata": {},
   "outputs": [],
   "source": [
    "x = x_0\n",
    "for jter in range(max_iter):\n",
    "    "
   ]
  }
 ],
 "metadata": {
  "kernelspec": {
   "display_name": "Python 3",
   "language": "python",
   "name": "python3"
  },
  "language_info": {
   "codemirror_mode": {
    "name": "ipython",
    "version": 3
   },
   "file_extension": ".py",
   "mimetype": "text/x-python",
   "name": "python",
   "nbconvert_exporter": "python",
   "pygments_lexer": "ipython3",
   "version": "3.9.5"
  }
 },
 "nbformat": 4,
 "nbformat_minor": 5
}
