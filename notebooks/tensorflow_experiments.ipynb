{
 "cells": [
  {
   "cell_type": "code",
   "execution_count": 27,
   "id": "53492073",
   "metadata": {},
   "outputs": [],
   "source": [
    "import tensorflow as tf\n",
    "import numpy as np\n",
    "from matplotlib import pyplot as plt\n",
    "from tensorflow.nn import convolution, conv2d_transpose"
   ]
  },
  {
   "cell_type": "code",
   "execution_count": 28,
   "id": "e6104e96",
   "metadata": {},
   "outputs": [],
   "source": [
    "N = 100\n",
    "dt = 0.01\n",
    "h = 1"
   ]
  },
  {
   "cell_type": "code",
   "execution_count": 29,
   "id": "f4d99f43",
   "metadata": {},
   "outputs": [],
   "source": [
    "A = -np.array([[0, -1, 0, 0], [-1, 0, 1, 0], [0, 1, 0, 0], [0, 0, 0, 0]])\n",
    "B = -np.array([[0, 0, -1, 0], [0, 0, 0, 0], [0, 0, 1, 0], [0, 0, 0, 0]]) * h\n",
    "C = -np.array([[0, 0, 0, 0], [0, 0, 0, 0], [1, 0, -1, 0], [0, 0, 0, 0]]) * h\n",
    "D = np.array([[0, 0, 0, 0], [0, 0, 1, 0], [0, -1, 0, 1], [0, 0, -1, 0]]) / h**2"
   ]
  },
  {
   "cell_type": "code",
   "execution_count": 56,
   "id": "65b5aa32",
   "metadata": {},
   "outputs": [
    {
     "data": {
      "text/plain": [
       "array([[ 0.,  0.,  0.,  0.],\n",
       "       [ 0.,  0.,  1.,  0.],\n",
       "       [ 0., -1.,  0.,  1.],\n",
       "       [ 0.,  0., -1.,  0.]])"
      ]
     },
     "execution_count": 56,
     "metadata": {},
     "output_type": "execute_result"
    }
   ],
   "source": [
    "D"
   ]
  },
  {
   "cell_type": "code",
   "execution_count": 31,
   "id": "c6b711cd",
   "metadata": {},
   "outputs": [],
   "source": [
    "_filt_0 = np.stack([B, C, D]).reshape(3,4,4,1).transpose((1, 2, 3, 0))\n",
    "_filt_1 = A.reshape(1,4,4,1).transpose((1, 2, 3, 0))\n",
    "\n",
    "jdx0=np.arange(1, 2 * N + 1, 2)\n",
    "jdx1=np.arange(2, 2 * N + 1, 2)\n",
    "jdx2=np.arange(0, 2 * N + 2, 2)\n",
    "jdx3=np.arange(1, 2 * N + 2, 2)"
   ]
  },
  {
   "cell_type": "code",
   "execution_count": 32,
   "id": "a8e0577a",
   "metadata": {},
   "outputs": [
    {
     "data": {
      "text/plain": [
       "(4, 4, 1, 3)"
      ]
     },
     "execution_count": 32,
     "metadata": {},
     "output_type": "execute_result"
    }
   ],
   "source": [
    "_filt_0.shape"
   ]
  },
  {
   "cell_type": "code",
   "execution_count": 33,
   "id": "6d66f761",
   "metadata": {},
   "outputs": [
    {
     "data": {
      "text/plain": [
       "array([[ 0,  1,  0,  0],\n",
       "       [ 1,  0, -1,  0],\n",
       "       [ 0, -1,  0,  0],\n",
       "       [ 0,  0,  0,  0]])"
      ]
     },
     "execution_count": 33,
     "metadata": {},
     "output_type": "execute_result"
    }
   ],
   "source": [
    "np.squeeze(_filt_1)"
   ]
  },
  {
   "cell_type": "code",
   "execution_count": 34,
   "id": "d2ce24fb",
   "metadata": {},
   "outputs": [],
   "source": [
    "_X = np.zeros(shape=(2 * N + 2, 2 * N + 2))\n",
    "dX = _X * 0"
   ]
  },
  {
   "cell_type": "code",
   "execution_count": 35,
   "id": "3737b3c4",
   "metadata": {},
   "outputs": [
    {
     "data": {
      "text/plain": [
       "<matplotlib.image.AxesImage at 0x7f842034b7f0>"
      ]
     },
     "execution_count": 35,
     "metadata": {},
     "output_type": "execute_result"
    },
    {
     "data": {
      "image/png": "[encoded data removed]",
      "text/plain": [
       "<Figure size 432x288 with 1 Axes>"
      ]
     },
     "metadata": {
      "needs_background": "light"
     },
     "output_type": "display_data"
    }
   ],
   "source": [
    "x = np.linspace(0,10,2 * N + 2)\n",
    "mesh = np.stack(np.meshgrid(x, x))\n",
    "\n",
    "_X[jdx1.reshape(-1,1),jdx1.reshape(1,-1)] = np.exp(-np.sum(np.square(mesh-np.array([5,5]).reshape((2,1,1))), axis=0))[jdx1.reshape(-1,1),jdx1.reshape(1,-1)]\n",
    "\n",
    "plt.imshow((_X))"
   ]
  },
  {
   "cell_type": "code",
   "execution_count": 36,
   "id": "64618a92",
   "metadata": {},
   "outputs": [],
   "source": [
    "_R = _X.copy()*0 + 1\n",
    "_R[jdx3.reshape(-1,1), jdx2.reshape(1,-1)] = 1\n",
    "_R[jdx2.reshape(-1,1), jdx3.reshape(1,-1)] = 1"
   ]
  },
  {
   "cell_type": "code",
   "execution_count": 37,
   "id": "b1d05e91",
   "metadata": {},
   "outputs": [],
   "source": [
    "mu = 1\n",
    "eps = 1"
   ]
  },
  {
   "cell_type": "code",
   "execution_count": 38,
   "id": "6a15217d",
   "metadata": {},
   "outputs": [],
   "source": [
    "filt_0= tf.constant(_filt_0, name='maxwell', dtype=tf.float64)\n",
    "filt_1= tf.constant(_filt_1, name='continuity', dtype=tf.float64)\n",
    "R= tf.constant(_R.reshape((1, 2 * N + 2, 2 * N + 2, 1)), name='resistance', dtype=tf.float64)\n",
    "X = tf.Variable(_X.reshape((1, 2 * N + 2, 2 * N + 2, 1)), name='X', dtype=tf.float64)"
   ]
  },
  {
   "cell_type": "code",
   "execution_count": 39,
   "id": "16cb18ca",
   "metadata": {},
   "outputs": [
    {
     "name": "stdout",
     "output_type": "stream",
     "text": [
      "158.65404261415733\n"
     ]
    }
   ],
   "source": [
    "for jter in range(1):\n",
    "    y_0 = tf.squeeze(convolution(X, filters=filt_0, strides=2, padding='VALID'))\n",
    "    y_1 = tf.squeeze(convolution(X / R, filters=filt_1, strides=2, padding='VALID'))\n",
    "    \n",
    "    _x = np.squeeze((X / R / eps).numpy())\n",
    "    dX[jdx0.reshape(-1,1), jdx0.reshape(1,-1)] = y_1.numpy()\n",
    "    dX[jdx0.reshape(-1,1), jdx1.reshape(1,-1)] = y_0.numpy()[:, :, 0] - _x[jdx0.reshape(-1,1), jdx1.reshape(1,-1)]  \n",
    "    dX[jdx1.reshape(-1,1), jdx0.reshape(1,-1)] = y_0.numpy()[:, :, 1] - _x[jdx1.reshape(-1,1), jdx0.reshape(1,-1)] \n",
    "    dX[jdx1.reshape(-1,1), jdx1.reshape(1,-1)] = y_0.numpy()[:, :, 2]\n",
    "\n",
    "    X.assign_add(dt * dX.reshape((1, 2 * N + 2, 2 * N + 2, 1)) / mu / eps)\n",
    "    # print(np.max(np.squeeze(X)[jdx1.reshape(-1,1),jdx1.reshape(1,-1)]))\n",
    "print((np.sum(np.square(np.squeeze(X)[jdx1.reshape(-1,1),jdx1.reshape(1,-1)])) - \\\n",
    "           np.sum(np.square(np.squeeze(X)[jdx0.reshape(-1,1), jdx1.reshape(1,-1)])) - \\\n",
    "           np.sum(np.square(np.squeeze(X)[jdx1.reshape(-1,1), jdx0.reshape(1,-1)]))) * h ** 2)"
   ]
  },
  {
   "cell_type": "code",
   "execution_count": 40,
   "id": "c5b9e973",
   "metadata": {},
   "outputs": [
    {
     "data": {
      "text/plain": [
       "4.907676925593352e-05"
      ]
     },
     "execution_count": 40,
     "metadata": {},
     "output_type": "execute_result"
    }
   ],
   "source": [
    "np.squeeze(X)[jdx0.reshape(-1,1), jdx1.reshape(1,-1)][50,50]"
   ]
  },
  {
   "cell_type": "code",
   "execution_count": 15,
   "id": "12cf124f",
   "metadata": {},
   "outputs": [
    {
     "data": {
      "text/plain": [
       "<matplotlib.image.AxesImage at 0x7f842c29efd0>"
      ]
     },
     "execution_count": 15,
     "metadata": {},
     "output_type": "execute_result"
    },
    {
     "data": {
      "image/png": "[encoded data removed]",
      "text/plain": [
       "<Figure size 432x288 with 1 Axes>"
      ]
     },
     "metadata": {
      "needs_background": "light"
     },
     "output_type": "display_data"
    }
   ],
   "source": [
    "plt.imshow(np.squeeze(X)[jdx1.reshape(-1,1),jdx1.reshape(1,-1)])"
   ]
  },
  {
   "cell_type": "code",
   "execution_count": 16,
   "id": "1dd2828e",
   "metadata": {},
   "outputs": [
    {
     "data": {
      "text/plain": [
       "<matplotlib.image.AxesImage at 0x7f842c271c40>"
      ]
     },
     "execution_count": 16,
     "metadata": {},
     "output_type": "execute_result"
    },
    {
     "data": {
      "image/png": "[encoded data removed]",
      "text/plain": [
       "<Figure size 432x288 with 1 Axes>"
      ]
     },
     "metadata": {
      "needs_background": "light"
     },
     "output_type": "display_data"
    }
   ],
   "source": [
    "plt.imshow(np.squeeze(X)[jdx0.reshape(-1,1), jdx1.reshape(1,-1)])"
   ]
  },
  {
   "cell_type": "code",
   "execution_count": 17,
   "id": "158c3eda",
   "metadata": {},
   "outputs": [
    {
     "data": {
      "text/plain": [
       "<matplotlib.image.AxesImage at 0x7f842c1c4850>"
      ]
     },
     "execution_count": 17,
     "metadata": {},
     "output_type": "execute_result"
    },
    {
     "data": {
      "image/png": "[encoded data removed]",
      "text/plain": [
       "<Figure size 432x288 with 1 Axes>"
      ]
     },
     "metadata": {
      "needs_background": "light"
     },
     "output_type": "display_data"
    }
   ],
   "source": [
    "plt.imshow(np.squeeze(X)[jdx1.reshape(-1,1), jdx0.reshape(1,-1)])"
   ]
  },
  {
   "cell_type": "code",
   "execution_count": 22,
   "id": "b30f30c3",
   "metadata": {},
   "outputs": [
    {
     "data": {
      "text/plain": [
       "<matplotlib.image.AxesImage at 0x7f842c13abe0>"
      ]
     },
     "execution_count": 22,
     "metadata": {},
     "output_type": "execute_result"
    },
    {
     "data": {
      "image/png": "[encoded data removed]",
      "text/plain": [
       "<Figure size 432x288 with 1 Axes>"
      ]
     },
     "metadata": {
      "needs_background": "light"
     },
     "output_type": "display_data"
    }
   ],
   "source": [
    "plt.imshow(np.squeeze(dX)[jdx0.reshape(-1,1),jdx0.reshape(1,-1)])"
   ]
  },
  {
   "cell_type": "code",
   "execution_count": null,
   "id": "51565928",
   "metadata": {},
   "outputs": [],
   "source": [
    "np.max(np.abs(np.squeeze(X)[jdx0.reshape(-1,1),jdx0.reshape(1,-1)]\n",
    "             ))"
   ]
  },
  {
   "cell_type": "code",
   "execution_count": null,
   "id": "4e43d690",
   "metadata": {},
   "outputs": [],
   "source": [
    "x = np.linspace(0,10,1000)\n",
    "x_pos, y_pos = np.meshgrid(x, x)"
   ]
  },
  {
   "cell_type": "code",
   "execution_count": null,
   "id": "63e7629d",
   "metadata": {},
   "outputs": [],
   "source": [
    "np.squeeze(X)[jdx1.reshape(-1,1), jdx0.reshape(1,-1)].shape"
   ]
  },
  {
   "cell_type": "code",
   "execution_count": null,
   "id": "d4cfe0f2",
   "metadata": {},
   "outputs": [],
   "source": [
    "#fig, ax = plt.subplots()\n",
    "\n",
    "plt.figure(figsize=(60, 60))\n",
    "x_pos = 0\n",
    "y_pos = 0\n",
    "x_direct = 1\n",
    "y_direct = 1\n",
    "plt.axis('equal');\n",
    "plt.quiver(np.linspace(0,10,50),np.linspace(0,10,50),np.squeeze(X)[jdx0[::20].reshape(-1,1), jdx1[::20].reshape(1,-1)],np.squeeze(X)[jdx1[::20].reshape(-1,1), jdx0[::20].reshape(1,-1)])\n",
    "\n",
    "plt.show()"
   ]
  },
  {
   "cell_type": "code",
   "execution_count": null,
   "id": "d3ad46d8",
   "metadata": {},
   "outputs": [],
   "source": [
    "dX"
   ]
  },
  {
   "cell_type": "code",
   "execution_count": null,
   "id": "4c95a4c3",
   "metadata": {},
   "outputs": [],
   "source": [
    "tf.Session().run?"
   ]
  },
  {
   "cell_type": "code",
   "execution_count": null,
   "id": "85cf607f",
   "metadata": {},
   "outputs": [],
   "source": [
    "tf.Session().run"
   ]
  },
  {
   "cell_type": "code",
   "execution_count": null,
   "id": "88892d7d",
   "metadata": {},
   "outputs": [],
   "source": []
  },
  {
   "cell_type": "code",
   "execution_count": null,
   "id": "03e71c68",
   "metadata": {},
   "outputs": [],
   "source": [
    "Z=tf.squeeze(X)"
   ]
  },
  {
   "cell_type": "code",
   "execution_count": null,
   "id": "c332dc48",
   "metadata": {},
   "outputs": [],
   "source": [
    "tf.Tensor?"
   ]
  },
  {
   "cell_type": "code",
   "execution_count": null,
   "id": "f16c3d4d",
   "metadata": {},
   "outputs": [],
   "source": [
    "Z[1::2,1::2]=y_0"
   ]
  },
  {
   "cell_type": "code",
   "execution_count": null,
   "id": "0890732c",
   "metadata": {},
   "outputs": [],
   "source": [
    "tf.tile?"
   ]
  },
  {
   "cell_type": "code",
   "execution_count": null,
   "id": "2f1fa471",
   "metadata": {},
   "outputs": [],
   "source": [
    "_R = _R*0"
   ]
  },
  {
   "cell_type": "code",
   "execution_count": null,
   "id": "16ea2967",
   "metadata": {},
   "outputs": [],
   "source": [
    "_R[jdx1.reshape(-1,1), jdx1.reshape(1,-1)]=1"
   ]
  },
  {
   "cell_type": "code",
   "execution_count": null,
   "id": "bd68c38b",
   "metadata": {},
   "outputs": [],
   "source": [
    "_R"
   ]
  },
  {
   "cell_type": "code",
   "execution_count": null,
   "id": "7365acb4",
   "metadata": {},
   "outputs": [],
   "source": []
  },
  {
   "cell_type": "code",
   "execution_count": null,
   "id": "f1d7a86b",
   "metadata": {},
   "outputs": [],
   "source": []
  },
  {
   "cell_type": "code",
   "execution_count": null,
   "id": "be7d9a44",
   "metadata": {},
   "outputs": [],
   "source": [
    "    "
   ]
  },
  {
   "cell_type": "code",
   "execution_count": null,
   "id": "b7598fff",
   "metadata": {},
   "outputs": [],
   "source": [
    "y.shape"
   ]
  },
  {
   "cell_type": "code",
   "execution_count": null,
   "id": "f30ebe32",
   "metadata": {},
   "outputs": [],
   "source": [
    "x = tf.zeros(shape=(1,12,12,1), dtype=tf.float32)"
   ]
  },
  {
   "cell_type": "code",
   "execution_count": null,
   "id": "fe166d0b",
   "metadata": {},
   "outputs": [],
   "source": [
    "ff = tf.reshape(tf.constant([[0,-1],[1,0]], dtype=tf.float32), (2,2,1,1))"
   ]
  },
  {
   "cell_type": "code",
   "execution_count": null,
   "id": "9452a06a",
   "metadata": {},
   "outputs": [],
   "source": [
    "ff"
   ]
  },
  {
   "cell_type": "code",
   "execution_count": null,
   "id": "a631d153",
   "metadata": {},
   "outputs": [],
   "source": [
    "y=convolution(x, ff, 'SAME')"
   ]
  },
  {
   "cell_type": "code",
   "execution_count": null,
   "id": "deea9d92",
   "metadata": {},
   "outputs": [],
   "source": [
    "print(y)"
   ]
  },
  {
   "cell_type": "code",
   "execution_count": null,
   "id": "4fe016a7",
   "metadata": {},
   "outputs": [],
   "source": [
    "with  tf.Session() as sess:\n",
    "    print(sess.run(y))"
   ]
  },
  {
   "cell_type": "code",
   "execution_count": null,
   "id": "ce2dd292",
   "metadata": {},
   "outputs": [],
   "source": [
    "y"
   ]
  },
  {
   "cell_type": "code",
   "execution_count": null,
   "id": "cbea7dfe",
   "metadata": {},
   "outputs": [],
   "source": [
    "x = x_0\n",
    "for jter in range(max_iter):\n",
    "    "
   ]
  }
 ],
 "metadata": {
  "kernelspec": {
   "display_name": "Python 3",
   "language": "python",
   "name": "python3"
  },
  "language_info": {
   "codemirror_mode": {
    "name": "ipython",
    "version": 3
   },
   "file_extension": ".py",
   "mimetype": "text/x-python",
   "name": "python",
   "nbconvert_exporter": "python",
   "pygments_lexer": "ipython3",
   "version": "3.9.5"
  }
 },
 "nbformat": 4,
 "nbformat_minor": 5
}
