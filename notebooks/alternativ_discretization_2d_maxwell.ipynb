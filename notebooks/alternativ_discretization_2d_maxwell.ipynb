{
 "cells": [
  {
   "cell_type": "code",
   "execution_count": null,
   "metadata": {},
   "outputs": [],
   "source": [
    "from matplotlib import pyplot as plt\n",
    "import numpy as np\n",
    "from scipy.signal import convolve2d as conv\n",
    "from matplotlib import animation, rc, cm, pyplot as plt\n",
    "from celluloid import Camera\n",
    "from IPython.display import HTML\n",
    "import numpy as np\n",
    "from scipy.sparse import csr_matrix\n",
    "from tqdm import tqdm\n",
    "from IPython.display import clear_output\n",
    "from time import sleep\n",
    "\n",
    "from matplotlib import animation, rc\n",
    "from IPython.display import HTML\n"
   ]
  },
  {
   "cell_type": "code",
   "execution_count": null,
   "metadata": {},
   "outputs": [],
   "source": [
    "N = 10000\n",
    "h = 1\n",
    "dt = 1e-3"
   ]
  },
  {
   "cell_type": "markdown",
   "metadata": {},
   "source": [
    "setup u-field"
   ]
  },
  {
   "cell_type": "code",
   "execution_count": null,
   "metadata": {},
   "outputs": [],
   "source": [
    "u = np.zeros(shape=(N + 3, N + 3))"
   ]
  },
  {
   "cell_type": "code",
   "execution_count": null,
   "metadata": {},
   "outputs": [],
   "source": [
    "u"
   ]
  },
  {
   "cell_type": "code",
   "execution_count": null,
   "metadata": {},
   "outputs": [],
   "source": [
    "pB = conv(u, np.zeros((2,2)), 'valid')"
   ]
  },
  {
   "cell_type": "code",
   "execution_count": null,
   "metadata": {},
   "outputs": [],
   "source": []
  },
  {
   "cell_type": "code",
   "execution_count": null,
   "metadata": {},
   "outputs": [],
   "source": [
    "temp =np.arange(pB.shape[0])\n",
    "p = np.vectorize(lambda x: x % 2>0)(temp.reshape(-1,1) + temp.reshape(1,-1))\n",
    "B = np.vectorize(lambda x: x % 2==0)(temp.reshape(-1,1) + temp.reshape(1,-1))"
   ]
  },
  {
   "cell_type": "code",
   "execution_count": null,
   "metadata": {},
   "outputs": [],
   "source": [
    "plt.imshow(B)"
   ]
  },
  {
   "cell_type": "code",
   "execution_count": null,
   "metadata": {},
   "outputs": [],
   "source": [
    "plt.imshow(p)"
   ]
  },
  {
   "cell_type": "code",
   "execution_count": null,
   "metadata": {},
   "outputs": [],
   "source": []
  },
  {
   "cell_type": "code",
   "execution_count": null,
   "metadata": {},
   "outputs": [],
   "source": [
    "temp =np.arange(u.shape[0])\n",
    "hu = np.vectorize(lambda x: x % 2>0)(temp.reshape(-1,1) + temp.reshape(1,-1))\n",
    "vu = np.vectorize(lambda x: x % 2==0)(temp.reshape(-1,1) + temp.reshape(1,-1))"
   ]
  },
  {
   "cell_type": "code",
   "execution_count": null,
   "metadata": {},
   "outputs": [],
   "source": [
    "plt.imshow(hu)"
   ]
  },
  {
   "cell_type": "raw",
   "metadata": {},
   "source": [
    "u = np.zeros(shape=(N + 3, N + 3))\n",
    "u[0,0]=-1\n",
    "u[1,0]=1\n",
    "u[0,1]=1\n",
    "u[1,1]=-1\n",
    "\n",
    "u[-1,-1]=1\n",
    "u[-1,-2]=-1\n",
    "u[-2,-1]=-1\n",
    "u[-2,-2]=1\n",
    "\n",
    "pB = conv(u.copy(), np.array([[1,1],[-1,-1]]), 'valid') * p\n",
    "# u muss lösung der poissongleichung sein"
   ]
  },
  {
   "cell_type": "code",
   "execution_count": null,
   "metadata": {},
   "outputs": [],
   "source": [
    "pB = np.zeros((N+2,N+2))\n",
    "pB[0,0]=3\n",
    "u = np.zeros(shape=(N + 3, N + 3))"
   ]
  },
  {
   "cell_type": "code",
   "execution_count": null,
   "metadata": {},
   "outputs": [],
   "source": [
    "plt.imshow(pB[:4,:4])"
   ]
  },
  {
   "cell_type": "code",
   "execution_count": null,
   "metadata": {},
   "outputs": [],
   "source": [
    "plt.imshow(u)"
   ]
  },
  {
   "cell_type": "code",
   "execution_count": null,
   "metadata": {},
   "outputs": [],
   "source": [
    "plt.imshow(pB)"
   ]
  },
  {
   "cell_type": "code",
   "execution_count": null,
   "metadata": {},
   "outputs": [],
   "source": [
    "x = np.linspace(0,10,10002)\n",
    "mesh = np.stack(np.meshgrid(x, x))\n",
    "#pB = np.zeros((N+2,N+2))\n",
    "#pB[0,0]=1\n",
    "pB = np.exp(-np.sum(np.square(mesh-np.array([5,5]).reshape((2,1,1))), axis=0))*B\n",
    "u = np.zeros(shape=(N + 3, N + 3))\n",
    "plt.imshow((pB))"
   ]
  },
  {
   "cell_type": "code",
   "execution_count": null,
   "metadata": {},
   "outputs": [],
   "source": [
    "pB = np.zeros((N+2,N+2))\n",
    "B[50,50]=1\n",
    "u = np.zeros(shape=(N + 3, N + 3))\n",
    "v = pB.copy()\n",
    "#u[4,4]=1\n",
    "#u[-4,-4]=-1"
   ]
  },
  {
   "cell_type": "code",
   "execution_count": null,
   "metadata": {},
   "outputs": [],
   "source": []
  },
  {
   "cell_type": "code",
   "execution_count": null,
   "metadata": {},
   "outputs": [],
   "source": [
    "R=np.random.uniform(0.1, 1, size=u.shape)*0+10000\n",
    "mu=np.random.uniform(0.1, 1, size=u.shape)*0+1\n",
    "eps=np.random.uniform(0.1, 1, size=u.shape)*0+1"
   ]
  },
  {
   "cell_type": "code",
   "execution_count": null,
   "metadata": {},
   "outputs": [],
   "source": [
    "x = np.linspace(0,10,103)\n",
    "mesh = np.stack(np.meshgrid(x, x))\n",
    "U = np.exp(-np.sum(np.square(mesh), axis=0))\n",
    "plt.imshow(U>0.0001)\n",
    "R[U>0.0001]=0.1"
   ]
  },
  {
   "cell_type": "code",
   "execution_count": null,
   "metadata": {},
   "outputs": [],
   "source": [
    "u.shape"
   ]
  },
  {
   "cell_type": "code",
   "execution_count": null,
   "metadata": {},
   "outputs": [],
   "source": [
    "np.array([[1,0],[0,-1]])"
   ]
  },
  {
   "cell_type": "code",
   "execution_count": null,
   "metadata": {},
   "outputs": [],
   "source": [
    "np.array([[0,1],[-1,0]])"
   ]
  },
  {
   "cell_type": "code",
   "execution_count": null,
   "metadata": {},
   "outputs": [],
   "source": [
    "for iter in range(100):\n",
    "    dtB = conv(u, np.array([[1,1],[-1,-1]]), 'valid') / h**2 # Faradaysches Geseetz\n",
    "    dtp = conv(u / R, np.array([[1,-1],[1,-1]]), 'valid')  # Kontinuitätsgesetz\n",
    "    dtBp = B * dtB + p * dtp  # B und p sind indikatoren wo B-Feld und wo p-Feld werte sind in pB\n",
    "\n",
    "    dthu = conv(pB, np.array([[1,0],[0,-1]]), 'full') # Amperesches Gesetz Teil 1\n",
    "    dtvu = conv(pB, np.array([[0,1],[-1,0]]), 'full') # Amperesches Gesetz Teil 2\n",
    "    dtu = (vu * dthu + hu * dtvu) * h / (eps * mu) - u / R / eps # Amperesches Gesetz \n",
    "\n",
    "    u += dtu * dt\n",
    "    pB += dtBp * dt\n"
   ]
  },
  {
   "cell_type": "code",
   "execution_count": null,
   "metadata": {},
   "outputs": [],
   "source": [
    "np.array([[1,1],[-1,-1]])"
   ]
  },
  {
   "cell_type": "code",
   "execution_count": null,
   "metadata": {},
   "outputs": [],
   "source": [
    "plt.imshow(dtu)"
   ]
  },
  {
   "cell_type": "code",
   "execution_count": null,
   "metadata": {},
   "outputs": [],
   "source": []
  },
  {
   "cell_type": "code",
   "execution_count": null,
   "metadata": {},
   "outputs": [],
   "source": [
    "plt.imshow((pB)[50:60,50:60])"
   ]
  },
  {
   "cell_type": "code",
   "execution_count": null,
   "metadata": {},
   "outputs": [],
   "source": [
    "(pB)[50:60,50:60][2,2]-(pB)[50:60,50:60][3,3]"
   ]
  },
  {
   "cell_type": "code",
   "execution_count": null,
   "metadata": {},
   "outputs": [],
   "source": [
    "plt.imshow(x[50:60,50:60]==-((pB)[50:60,50:60][2,2]-(pB)[50:60,50:60][3,3]))"
   ]
  },
  {
   "cell_type": "code",
   "execution_count": null,
   "metadata": {},
   "outputs": [],
   "source": [
    "x=(conv(pB, np.array([[1,0],[0,-1]]), 'full'))\n",
    "plt.imshow((x)[50:60,50:60])"
   ]
  },
  {
   "cell_type": "code",
   "execution_count": null,
   "metadata": {},
   "outputs": [],
   "source": [
    "np.array([[0,1],[-1,0]])"
   ]
  },
  {
   "cell_type": "code",
   "execution_count": null,
   "metadata": {},
   "outputs": [],
   "source": [
    "y=conv(pB, np.array([[0,1],[-1,0]]), 'full')\n",
    "plt.imshow((y*hu)[50:60,50:60])"
   ]
  },
  {
   "cell_type": "code",
   "execution_count": null,
   "metadata": {},
   "outputs": [],
   "source": [
    "plt.imshow(pB)"
   ]
  },
  {
   "cell_type": "code",
   "execution_count": null,
   "metadata": {},
   "outputs": [],
   "source": [
    "plt.plot(ls)"
   ]
  },
  {
   "cell_type": "code",
   "execution_count": null,
   "metadata": {},
   "outputs": [],
   "source": [
    "plt.imshow((pB*B)[40:60,40:60])\n",
    "np.max((pB*B))"
   ]
  },
  {
   "cell_type": "code",
   "execution_count": null,
   "metadata": {},
   "outputs": [],
   "source": [
    "plt.imshow((u)[40:60,40:60])\n"
   ]
  },
  {
   "cell_type": "code",
   "execution_count": null,
   "metadata": {},
   "outputs": [],
   "source": [
    "    dthu = conv(pB, np.array([[0,1],[-1,0]]), 'full')\n",
    "    dtvu = conv(pB, np.array([[1,0],[0,-1]]), 'full') \n",
    "    dtu = (hu * dthu + vu * dtvu) * h / (eps * mu)"
   ]
  },
  {
   "cell_type": "code",
   "execution_count": null,
   "metadata": {},
   "outputs": [],
   "source": [
    "plt.imshow((dtu)[40:60,40:60])"
   ]
  },
  {
   "cell_type": "code",
   "execution_count": null,
   "metadata": {},
   "outputs": [],
   "source": [
    "plt.imshow(dtBp[40:60,40:60])"
   ]
  },
  {
   "cell_type": "code",
   "execution_count": null,
   "metadata": {},
   "outputs": [],
   "source": [
    "    dtB = -conv(u, np.array([[-1,1],[-1,1]]), 'valid') / h**2 \n",
    "    dtp = -conv(u / R, np.array([[1,1],[-1,-1]]), 'valid')\n",
    "    dtBp = B * dtB + p * dtp"
   ]
  },
  {
   "cell_type": "code",
   "execution_count": null,
   "metadata": {},
   "outputs": [],
   "source": [
    "np.array([[-1,1],[-1,1]])"
   ]
  },
  {
   "cell_type": "code",
   "execution_count": null,
   "metadata": {},
   "outputs": [],
   "source": [
    "    dtB = conv(dtu, np.array([[1,1],[-1,-1]]), 'valid') / h**2 \n",
    "    dtp = -conv(dtu / R, np.array([[-1,1],[-1,1]]), 'valid')"
   ]
  },
  {
   "cell_type": "code",
   "execution_count": null,
   "metadata": {},
   "outputs": [],
   "source": [
    "plt.imshow((dtB*B)[40:60,40:60])"
   ]
  },
  {
   "cell_type": "code",
   "execution_count": null,
   "metadata": {},
   "outputs": [],
   "source": [
    "plt.imshow((dtB*B)[40:60,40:60])"
   ]
  },
  {
   "cell_type": "code",
   "execution_count": null,
   "metadata": {},
   "outputs": [],
   "source": [
    "plt.imshow((u)[40:60,40:60])"
   ]
  },
  {
   "cell_type": "code",
   "execution_count": null,
   "metadata": {},
   "outputs": [],
   "source": [
    "pB = np.zeros((N+2,N+2))\n",
    "\n",
    "u = np.zeros(shape=(N + 3, N + 3))\n",
    "v = pB.copy()\n",
    "u[4,4]=1\n",
    "u[-4,-4]=-1"
   ]
  },
  {
   "cell_type": "code",
   "execution_count": null,
   "metadata": {},
   "outputs": [],
   "source": [
    "%%capture\n",
    "camera = Camera(plt.figure())\n",
    "\n",
    "for iter in range(1000):\n",
    "    dtB = conv(u, np.array([[1,1],[-1,-1]]), 'valid') / h**2 \n",
    "    dtp = -conv(u / R, np.array([[-1,1],[-1,1]]), 'valid')\n",
    "    dtBp = B * dtB + p * dtp\n",
    "\n",
    "    dthu = conv(pB, np.array([[1,0],[0,-1]]), 'full')\n",
    "    dtvu = conv(pB, np.array([[0,1],[-1,0]]), 'full') \n",
    "    dtu = (vu * dthu + hu * dtvu) * h / (eps * mu) - u / R / eps\n",
    "\n",
    "    u += dtu * dt\n",
    "    pB += dtBp * dt\n",
    "    if iter % 100 ==0:\n",
    "        plt.imshow((u),vmin=-1, vmax=1)\n",
    "        camera.snap()\n",
    "anim = camera.animate(blit=True)\n",
    "clear_output()"
   ]
  },
  {
   "cell_type": "code",
   "execution_count": null,
   "metadata": {},
   "outputs": [],
   "source": [
    "HTML(anim.to_html5_video())"
   ]
  },
  {
   "cell_type": "code",
   "execution_count": null,
   "metadata": {},
   "outputs": [],
   "source": [
    "plt.imshow((pB*p))"
   ]
  },
  {
   "cell_type": "code",
   "execution_count": null,
   "metadata": {},
   "outputs": [],
   "source": [
    "np.sum(np.square(pB) * B)"
   ]
  },
  {
   "cell_type": "code",
   "execution_count": null,
   "metadata": {},
   "outputs": [],
   "source": [
    "np.sum(np.square(pB * p))"
   ]
  },
  {
   "cell_type": "code",
   "execution_count": null,
   "metadata": {},
   "outputs": [],
   "source": [
    "np.max(u)"
   ]
  },
  {
   "cell_type": "code",
   "execution_count": null,
   "metadata": {},
   "outputs": [],
   "source": [
    "plt.imshow(u[:20,:20])"
   ]
  },
  {
   "cell_type": "code",
   "execution_count": null,
   "metadata": {},
   "outputs": [],
   "source": [
    "u[0,1]-u[0,2]-u[1,1]+u[1,2]"
   ]
  },
  {
   "cell_type": "code",
   "execution_count": null,
   "metadata": {},
   "outputs": [],
   "source": [
    "np.sum(np.square(pB) * B)# + np.sum(np.square(u))"
   ]
  },
  {
   "cell_type": "code",
   "execution_count": null,
   "metadata": {},
   "outputs": [],
   "source": [
    "conv(u, np.array([[1,1],[-1,-1]]), 'valid')[0,1]"
   ]
  },
  {
   "cell_type": "code",
   "execution_count": null,
   "metadata": {},
   "outputs": [],
   "source": [
    "(conv(u, np.array([[1,1],[-1,-1]]), 'valid'))[0,1]"
   ]
  },
  {
   "cell_type": "code",
   "execution_count": null,
   "metadata": {},
   "outputs": [],
   "source": [
    "np.array([[1,1],[-1,-1]])"
   ]
  },
  {
   "cell_type": "code",
   "execution_count": null,
   "metadata": {},
   "outputs": [],
   "source": [
    "u[:4,:4]"
   ]
  },
  {
   "cell_type": "code",
   "execution_count": null,
   "metadata": {},
   "outputs": [],
   "source": []
  }
 ],
 "metadata": {
  "kernelspec": {
   "display_name": "Python 3",
   "language": "python",
   "name": "python3"
  },
  "language_info": {
   "codemirror_mode": {
    "name": "ipython",
    "version": 3
   },
   "file_extension": ".py",
   "mimetype": "text/x-python",
   "name": "python",
   "nbconvert_exporter": "python",
   "pygments_lexer": "ipython3",
   "version": "3.9.5"
  }
 },
 "nbformat": 4,
 "nbformat_minor": 4
}
