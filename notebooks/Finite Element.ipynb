{
 "cells": [
  {
   "cell_type": "code",
   "execution_count": 2,
   "metadata": {},
   "outputs": [],
   "source": [
    "from matplotlib import animation, rc, cm, pyplot as plt\n",
    "from celluloid import Camera\n",
    "from IPython.display import HTML\n",
    "import numpy as np\n",
    "from scipy.sparse import csr_matrix\n",
    "from tqdm import tqdm\n",
    "from IPython.display import clear_output\n",
    "from time import sleep\n",
    "\n",
    "from matplotlib import animation, rc\n",
    "from IPython.display import HTML"
   ]
  },
  {
   "cell_type": "code",
   "execution_count": 3,
   "metadata": {},
   "outputs": [],
   "source": [
    "from scipy import sparse"
   ]
  },
  {
   "cell_type": "code",
   "execution_count": 4,
   "metadata": {},
   "outputs": [],
   "source": [
    "import os\n",
    "import sys\n",
    "module_path = os.path.abspath(os.path.join('..'))\n",
    "if module_path not in sys.path:\n",
    "    sys.path.append(module_path)"
   ]
  },
  {
   "cell_type": "code",
   "execution_count": 5,
   "metadata": {},
   "outputs": [],
   "source": [
    "from FiniteElements.MeshUtils import Mesh"
   ]
  },
  {
   "cell_type": "markdown",
   "metadata": {},
   "source": [
    "Discretization"
   ]
  },
  {
   "cell_type": "code",
   "execution_count": 8,
   "metadata": {},
   "outputs": [
    {
     "data": {
      "image/png": "[encoded data removed]",
      "text/plain": [
       "<Figure size 432x288 with 1 Axes>"
      ]
     },
     "metadata": {
      "needs_background": "light"
     },
     "output_type": "display_data"
    }
   ],
   "source": [
    "N=3\n",
    "plt.scatter(*np.split(Mesh(N)._vertices,2,axis=1))\n",
    "plt.axis('equal');"
   ]
  },
  {
   "cell_type": "code",
   "execution_count": 10,
   "metadata": {},
   "outputs": [
    {
     "data": {
      "text/plain": [
       "array([[0.        , 0.        ],\n",
       "       [0.16666667, 0.28867513],\n",
       "       [0.33333333, 0.57735027],\n",
       "       [0.5       , 0.8660254 ],\n",
       "       [0.33333333, 0.        ],\n",
       "       [0.5       , 0.28867513],\n",
       "       [0.66666667, 0.57735027],\n",
       "       [0.83333333, 0.8660254 ],\n",
       "       [0.66666667, 0.        ],\n",
       "       [0.83333333, 0.28867513],\n",
       "       [1.        , 0.57735027],\n",
       "       [1.16666667, 0.8660254 ],\n",
       "       [1.        , 0.        ],\n",
       "       [1.16666667, 0.28867513],\n",
       "       [1.33333333, 0.57735027],\n",
       "       [1.5       , 0.8660254 ]])"
      ]
     },
     "execution_count": 10,
     "metadata": {},
     "output_type": "execute_result"
    }
   ],
   "source": [
    "mesh = Mesh(3)\n",
    "mesh._vertices"
   ]
  },
  {
   "cell_type": "code",
   "execution_count": 16,
   "metadata": {},
   "outputs": [
    {
     "data": {
      "image/png": "[encoded data removed]",
      "text/plain": [
       "<Figure size 432x288 with 1 Axes>"
      ]
     },
     "metadata": {
      "needs_background": "light"
     },
     "output_type": "display_data"
    }
   ],
   "source": [
    "N=20\n",
    "mesh = Mesh(N)\n",
    "vertices = mesh._generate_vertices(N)\n",
    "faces = mesh._get_elements(N)\n",
    "plt.axis('equal');\n",
    "for k in range(2*N**2):\n",
    "    plt.scatter(*np.split(vertices,2,axis=1))\n",
    "    plt.scatter(*np.split(vertices[mesh._get_boundary()],2,axis=1))"
   ]
  },
  {
   "cell_type": "code",
   "execution_count": 18,
   "metadata": {},
   "outputs": [],
   "source": [
    "%%capture\n",
    "camera = Camera(plt.figure())\n",
    "N=3\n",
    "mesh = Mesh(N)\n",
    "\n",
    "for k in range(2*N**2):\n",
    "    plt.scatter(*np.split(mesh._vertices,2,axis=1,),color=\"blue\")\n",
    "    plt.scatter(*np.split(mesh._vertices[mesh._elements[k]],2,axis=1),color=\"red\")\n",
    "    plt.axis('equal');\n",
    "    camera.snap()\n",
    "anim = camera.animate(blit=True)\n",
    "clear_output()\n"
   ]
  },
  {
   "cell_type": "code",
   "execution_count": 19,
   "metadata": {
    "scrolled": true
   },
   "outputs": [
    {
     "data": {
      "text/html": [
       "<video width=\"432\" height=\"288\" controls autoplay loop>\n",
       "  <source type=\"video/mp4\" src=\"data:video/mp4;base64,AAAAHGZ0eXBNNFYgAAACAGlzb21pc28yYXZjMQAAAAhmcmVlAAAgSG1kYXQAAAKtBgX//6ncRem9\n",
       "5tlIt5Ys2CDZI+7veDI2NCAtIGNvcmUgMTU1IHIyOTE3IDBhODRkOTggLSBILjI2NC9NUEVHLTQg\n",
       "QVZDIGNvZGVjIC0gQ29weWxlZnQgMjAwMy0yMDE4IC0gaHR0cDovL3d3dy52aWRlb2xhbi5vcmcv\n",
       "eDI2NC5odG1sIC0gb3B0aW9uczogY2FiYWM9MSByZWY9MyBkZWJsb2NrPTE6MDowIGFuYWx5c2U9\n",
       "MHgzOjB4MTEzIG1lPWhleCBzdWJtZT03IHBzeT0xIHBzeV9yZD0xLjAwOjAuMDAgbWl4ZWRfcmVm\n",
       "PTEgbWVfcmFuZ2U9MTYgY2hyb21hX21lPTEgdHJlbGxpcz0xIDh4OGRjdD0xIGNxbT0wIGRlYWR6\n",
       "b25lPTIxLDExIGZhc3RfcHNraXA9MSBjaHJvbWFfcXBfb2Zmc2V0PS0yIHRocmVhZHM9OSBsb29r\n",
       "YWhlYWRfdGhyZWFkcz0xIHNsaWNlZF90aHJlYWRzPTAgbnI9MCBkZWNpbWF0ZT0xIGludGVybGFj\n",
       "ZWQ9MCBibHVyYXlfY29tcGF0PTAgY29uc3RyYWluZWRfaW50cmE9MCBiZnJhbWVzPTMgYl9weXJh\n",
       "bWlkPTIgYl9hZGFwdD0xIGJfYmlhcz0wIGRpcmVjdD0xIHdlaWdodGI9MSBvcGVuX2dvcD0wIHdl\n",
       "aWdodHA9MiBrZXlpbnQ9MjUwIGtleWludF9taW49NSBzY2VuZWN1dD00MCBpbnRyYV9yZWZyZXNo\n",
       "PTAgcmNfbG9va2FoZWFkPTQwIHJjPWNyZiBtYnRyZWU9MSBjcmY9MjMuMCBxY29tcD0wLjYwIHFw\n",
       "bWluPTAgcXBtYXg9NjkgcXBzdGVwPTQgaXBfcmF0aW89MS40MCBhcT0xOjEuMDAAgAAAELxliIQA\n",
       "E//+97GPgU3IAA2XOop6H+EVsfSQUXqx2aBk6gAAAwAAiYGOFkC1uVpxUAAA4VUQ89gJ/4ACpNOm\n",
       "KaLJHoJpJcf4xti/qNOSP32X2sNJb0bN1rqVluxPhvah/mcMcQJpOuvghD4PXxAbVehqLFsary30\n",
       "gsl5P9pGqmnN848g2i9GLvG74Rx/GXJgdfq4ntcb/SWhkBplKk0Vm+cKm7uD1LA9FKaxfZ9g7PhR\n",
       "gB8+XFFzUVJN9JDa7CRAF9+DBfvMacTFapUfSLEFvBj5YjeNuJvfgt/CLD7pQvAdojRxTxqg1d2r\n",
       "RjatoGhCrMMni4OanpxFTT2fzo/pj27uLZtRworXVlSYK/LWsJptIunoNCRiuXc3NWJIiwTneXuW\n",
       "9XWOl7ytKEnP6Fc1KlVbgbT01ACdSvHJEOQRcNPk9J5jdrMIijCeK6ZxAJKFDBKFyCcjRgbidXhi\n",
       "q/j9xLDpWoj+IjwANjfVfEnLgA/zlKEZZtdZ+ym3Q4ZS+OKF4SOMcQAYbelAyz8hTWiPbPVeAV3B\n",
       "n+sEbI9gekZO954ZW3aQqlp7qb6HAbFlOpjnf7QegDsrzSSARaAPX8kHqbZb73Mn4rFFu4XYIJsy\n",
       "VL1jZY0lbPN3NDXqIAa6gUFjtHENO/ieZH0eD0HIlluqEAcKw6LW4Pi7mBR5dIn6AcJdhh5vlp/h\n",
       "pinIdtnsiqEkIaI7/ZQTTnQMlbV8Er+ParIDEYlPsBH0p5fjBp20ezlW7DQBoKDFVJOlN2fDakSL\n",
       "N0vDSDHLbGpfNuZutHvmeAUQHivUjGqsUZQjRN55RH4SZSYdkB7OOu+87ejXx5NUVE02C0gCu9QT\n",
       "NtmgPo9PFnKCab69Euc0lvnB+stoXKPye0fg8QqMgFWdSxSyktkBFYCLb79zcn3wFM6FupUlOwaA\n",
       "Dn72qaUL30UhFQJobs+QWnbDlog58sgoqddUCh9TwabgsgzEC2pJDYUXAW5XL3JXtieKoXZAD7Sb\n",
       "57FBRZQLfFfqY02SUqqsr5UG3JIb9eMPP5exOt8iBUT3SBBfiM+X27apzicMluQEZBp5sfRAZfEo\n",
       "0VzdLo5nKd1Ig5II2v3NwwDiGxNBvk0u/eO0Aw5xn6BiQjMinJLUU0cVkpbMvVYiHN4bC/QmG8PF\n",
       "C1qzUt8+re/UTfed6HLtFi0UOcdv8/MIwaRzE2FUZP3Ter0cwIHn/jh7v6slrnyQ3Ond5VmdIZpz\n",
       "k2JWGJMxQWLfQD72SgyxqC1CkbDayr6kdcVaD7WkYs6wANquJitI7ySfMKxHx5/Tol2GN9G/3oS6\n",
       "lWdEfJ8WUNNQqQYYJreqmb5XmAb6Gkhif3IK0WXRaSBHtVCivkrmqcxw4iLUee4tuAtIZAwg/ZKH\n",
       "2WWiqgYuWMXtuFhlVOnloJp0UpWJb1uLRyZdY5fbQ32UEZoKa4u1e6FcGbc7PnjfNpHydWFD5F2S\n",
       "JIngKghGGUtQGmsjP61dPU0H3jB/hoFrI6+LTFs/tLJkknEa5eiCiSp1cHBibO/pojkwo9HtuNkd\n",
       "j9wlNWw+USTnjPVnJ1awvErPUK15iF32RBV6MgeSAltOarKSsGd121UrKgKo99jqy39Ylu3NeDYJ\n",
       "qYiQ/ArIz26yPlvpGw8V6V9OLvNspAhhGW//PdgqLfSgqzd7gkG20qF3gFAnSrKXUmHEklOSZwtM\n",
       "ou6fjmOlWWwT83ojzvo8dnOCiSE9xRbdBKZ4pEYK+Z4stS5ttr09vhmsr9BEIgre1jgmE+NXJdpa\n",
       "oTLcMsqSwGdvjGdQgA7Cr8e2tg6M/Pd21eQfjzZo5XZbNXV1MSCnhnjAexbU8dvX1rdK4kLMvtmU\n",
       "gJJQUrQbs3xix3ao+DTzwAg6LsW4x/8DfdCoDzvjqEkwJF8gMaDfvr3k+Be3tRloEPj2NS4KBJun\n",
       "splWVE1gNvW5uB83WjyQ0P/96rLcM2Wvmw7Je3KHzTy/6F76lov00BuThLmOO3O8kgeboNbQQVR8\n",
       "2xu559cmkKLZB3oU69TzauHGWzJOvjVTzgJ7MI71c+Zy8c4UT0tjNrBv4hjs36fUD1U1svMX+f8w\n",
       "fmRWQ3P8YpayUqBz1sDM0O4aKe6fUQQl9eIggGt+3CtK3kBYorTTeWdn/DbFjirG02b9All55YnI\n",
       "AB8mAY5k3gmB5GvHpiSHSU6NuxMUH30eIsIYaNk+CtO22zvq0iHxO/xD8vhwP9D4Nh/osJDc5ARt\n",
       "YjPvYXOe1Fm43rdvVdDTARRgImdQLhZs+pyRoP9zKQv2nYKCH5qNS78E9gHuwXFpod2qO+TAg7Sy\n",
       "KCetrRljLVZJMyqxQjiT1z6JfEqbIOJyfw2ZRywFdXkcVtirYseMfPzpshsJr5yIVfETVTGbGOzS\n",
       "pnpVQjUO4NSgODigdEpD43/BPoBhkKlJrfTZvptFmBwBjmoYiKhaQcZg5j2eqzsbJaN3Wgu6RC9R\n",
       "pLLvHqJTVNiam56Z74gVUIrG6uaLiaJhMLuVte0Nhk5d+5oACQfYD+8stlgN9oISlFzzvB0XPfqp\n",
       "Mh7/KVrR2MVLyQwpPNDj9xJ87KiqCVGJUTrkjzGNQCBvi/jjk/A2pcljkgZ7/ShgvTXYpjKSaFWi\n",
       "DRRkiIQ6NWgH9BPYyTWfoiLM2F9trnS7FY//iBzS/acL8H1qIhDafk/Xhej5+RbuHieUlNGf83ZN\n",
       "wDUqj1XrL/g+n8hEPJGbjMeCmupjH5+SwxBmmDcGYaSnRU6atNNqjREEJkxTQGje7JRJ4ZD1sdx6\n",
       "N/GAZdyX9nMTFh2u4a+QzxoSAVsXRV8UBBvIWYUaCHaM0HLiwdsu5P9I/BM+o3w4FRxaaAIiVYpS\n",
       "O1oP4T4izFMA57Oiw6cL8r7lxxiHN5gNTKxStIwVhg7kCHTgprE5i4zT+v7OHmv/ZI1y681xDhR0\n",
       "Ase3QAAV6NZgKPSjF084eHKCtM3gBE3r7rUM83wi9GrXltODCW2ptYV9Mm7bn+qti8kwat4DKGtr\n",
       "5Ut7wLdvv55gz0R4Nk7LpnZQPI00N6RqocpXdvuCXzqkiQJCgBJxWtIzqmK+JLPIu7VzNT81nnTW\n",
       "lDpESAAFcive/KiCEC/i5Uv6EmLAYCfjzA7f+SN7gjN2BNSCs+adO87kwTxEYK6rtzj57ukxW7/R\n",
       "u2p6UAqQmQS69Obvumte0VNd7hIJc7tUbXmCZ/vzZy2qpHUjfKQJilKvF4bU3sKjutsDVGbIh7Qm\n",
       "tM9fkRYB6rELpi9Vp60Q5lR9qXkL54NWujPAK95I/JYL1qGlBvDpR4+Bbhl1HYv7hRL679Mm1968\n",
       "dcoPgHm2WKOfAsMuel0zxYD9aTdkactDgn99IdWEhWNvAiGFhNO5f5AX1w6/4839hz+Jzcs+Pfso\n",
       "spK1I7U6Ik8tlCTmFJHd6jx0Ibj8ciC4S42eEvREXQdwbdYGBfLbSBEhNUTPu0JqqST8n6FRGDPZ\n",
       "aquVd9LNYygDNnIdL44kz8UJiU0NetsCZsACHII0tFLjcx/KvPm9UStJZaiUGiNvzHKIo58+YsMl\n",
       "8/ZCgSqlbBGiPOZt5zUV58JZlxK1Y6BSoeHFEcIhJPe5CU8R8gn/3CljnXW+igNT7Y9W3S5SQQOY\n",
       "UdIRue0jgaqrp6Af4bcIV8n+QIVTK/5zMmcoU8os0zb0bewoULMc5+wUeEoD/22r0SDJXzF8X6DG\n",
       "4jhlNlCH/N5tWrmRSo3ZEtwN5cFPcVBmWv6PyHRf63U+/VU00ZgBGtobNHUOk+miZAtrfPnyxGk4\n",
       "m4qDa9KSQNyRq4M4jqow0v3jj8RHWCSkVFxNpQ5agkDL7K8D4DvO0MS7LWw1eEGfe3+aEvbf3ihT\n",
       "GH9xUr1UCXsOrwBJxnoqHLKlaaLHFHIbYiFtzqbY7u71nWRaYYhQTUibJESPw5tjSH+yEKJeoJnx\n",
       "e4njamMQ2odblkkaKAFa2ihvZmkgnUKF/kZHLFKrVqTonwAkch4/wurAT07FyhrbUu3SiA/vCR+U\n",
       "++KeIY6dWUylaXl4EqN//6sHQg5k7S8E1qp1eHwbGqSsy4hWP0lLdN8rLpv5pch9C///akXg/Wbi\n",
       "2GjKEHD1lmyHoC50wC9gxMskNn/bC8a4cDiziANxCOFAoSADXeR6WOOyMij1U03ivjdyLnM0/881\n",
       "1i+C6J/G7ErINg7N/QoDN7s0VG4U/NB2TKcyd50H0kPhopSyBwsV2W8t4KhMwi2yPehWk2eDbnmq\n",
       "UDDD9b4uSVKJDdClX7Zm0sasNO1UEBVTk5G/kJArlJt5CUML/S8bDxZKBV6YxStY22+0yVY/x1KM\n",
       "+j8SlmGKZa6bm9G80CAHk6ck0I1uVobxITJLzwiq9kJN0GI9I/WvRcloZC/U6F9zG/bCnKkErNL+\n",
       "Y4MSfvkhVS6x+T0D02yt91L1RKgGqwlJD8T54vv7OM2Y3/EFZ+tgwHx8B211eVncd8tZM9qMN15J\n",
       "FCWni3pU9/DdQ7Zq3Kea878YDYu/y/zGykB81R3C38Q96px5+IqF8ItvAbw1ObFBi1m8rMFeA+v+\n",
       "422iu0CfQ49Q5wkY6HGx8es+9U00TVaR97ALDmiau0YPXqE/DrIyrS+UrxGJ18dii+B9v9u4aCiN\n",
       "9P7IxBLVa9tvVtkSoMCEEPqmMGIf/5w91vWfOozow5dmAQbT3E9HgSoyb+4C7KaON6kvkWVxKIH1\n",
       "jP14gsvBZWfioWW66K+7QALvBdWyHH7AvdjHavq6nno75Doqc2OlDT8VVzFxR2QId78wEJ36Z0CN\n",
       "wutf8u/3R2NfwYBLlMHX/RsnrHDPvZADUL1GSruD0IqJf0PXgwJWPPglzdyPgdLJF6N7RXuOKPji\n",
       "2btdMJ/Q3jHA+F+WCMnBmXUWFTYPOvLeow/kR16LlPV4qXiILSLE8Rq1WTj2O3YimLmexdmRp7nl\n",
       "0uhc08qmX3VvDZo+jX/N2Z9ylF5P33xE1wgtE4AuSOBVzSu/3oWe2XXX7Pjd6OAeTveZNv+gEgGX\n",
       "ixc4UQZ1auT9oAIqxTem9qhHpkCTNyHLKpW/jKRStmEF7aCh7mxdHI3Yv0QBZqM6/ZwL/lndKWag\n",
       "tAAgxc2yUP84s0Y+PRgrwbsA8gcnPfMCSpMew7D4qjVU4ehcwocziKS2QZ9JQSTlYnC1HnXoJZPm\n",
       "I24UlvkDn7nJ8mLywJhmrTzGBzKj7UvIX1USYRGy3RWgrYMHTlpd2EjG+ClQ88xEUkLm0MmmXwS4\n",
       "L3IhZZenwS87Das5zcU8/KHAK6lFnAgJvtalHgU//p//c/af/frK4hePuuk8dAgqeX3B5nSt0t0j\n",
       "uSI5Juo6p5JQ6xAkrFsYEPD2kOBmd18jwG3NpjhWME/OwVfXWLvbbXDeBCMpByOGul/zpsOOyC+B\n",
       "abrgfAZiZNDvKJIxV4VBch43KOj66KSu9GttlLCc8jCY/HYF/mcdM91Zt6kBhxDOxoXuPVUUKfux\n",
       "L+AGkaF+ci+jYUoCnHDCMO9vdBJMRQPf4rLUvFkt6iBmA8gpBa/2gMJWUmxAo7tOfTJTunmPI2ko\n",
       "HYm45tSWxpnUDQQuEt2I+p4YBZjy63e4ckD33z28ilJvRqe4WVTHKGigCkxKjAWmm6zU1wQSAsAb\n",
       "Cko+fpL29QNCFtNmY7jFRHjjCwogO4+DwpsMGNb6ERz8Si7O57H91JJ8IZKTGyENInXSLzf/m4o9\n",
       "riw3Fo8bUU9qFEYsTCfbhS98Na0MhyWxHdlgZkSZxO7Vtgc81P8w0Er4Hkg6G2p38EUEoYUvS/gA\n",
       "ABFI4UkAAARBQZokbEE//rUqgAwMcDQAjFugQNF1d0tY4HDXVJzBzA/9pIPDntqEX/t5+cFEyHMR\n",
       "2jyHdLnAXd4YNoh+REq0Oy83ZL6B11m+0omXguiOuRcmZJ9krB+rD8G19EBa+eemi0ifJ3B51F6l\n",
       "o51Lm1fPOM2Xn/9+vmlMdr2a85Z+JA413EGZrSUBCznDiOD73jF400YwuG4Kcwz+DPuhh2e0lFxz\n",
       "rpza533hOTMm5ZpG8QIWDilG5oKZ5JlxvIj9PtFkvDrhsS0Jd84AGqWrI0vPtf8QMwsldKOdFI3/\n",
       "3GtHyEzBl/r0KycNA0AY8gXjVqJ6tVEX54npBtit365p3DVchmSiStFdxxagi6ESyE2+8lUYd1v0\n",
       "+LL7UQCcRkgcas6FGilcy9ZSHi979pCSFholEF8Fv8uenTWzmxCRQIl8h5mUdYzbn8RATBOj2+ST\n",
       "xaJoURfkrQb+Jg+XUMVMZRFONINlAP5wFM2+rXdYJQrVqtwe8mO/FA44F7vVN4/2E8MzlR7LwQbM\n",
       "Hcklxj+9I8CA05J4QpuLf8F0A+lED3m8SC03DT+DyuXs6uzOTCMe1Bt4QPQaUJEqGxz8Dm87SBm7\n",
       "oLTG66nIktCY+PV+J3U/dg5d6AgimKSCx0BHcTAoe9Wyk+i22wkAcEAeJRurgjiADQdjKU1HUAVd\n",
       "HT8GM24E+QTe+fZElKmTCzz7/K0NRldjCiy/C4ezXsVppBfH7af/9AtUH7gO25B7rWkvLMTgKqrL\n",
       "Gn34Vh+Wejilfn8Ly2NKXH7pj87V6qElsh749Xy2O7iV9sjSvXQAiZQzrQfNYmfsanxMUGKvQ76Y\n",
       "dk31JRtX1jFuTIm8VjH+XcW6xaQIFXW71upf58pvlhN/mTu8IORKmcX9fgs5UszSZw1AXnTu+e2W\n",
       "TMAOpzn2V6JA5jlpVpsV0Xb/YkMnUgQjVeujF/Ns5urDzZKCjQGx2biMhghd/o9LQiShyoaHLRGY\n",
       "6CXdZCp1BcJO08Qea+y4ZgWNr9MfMwoLtdFS1CKhf6ZFt4eZ/WgWxm/QQ0GpWRSghOUrkP/9O593\n",
       "JM9Lnmj1LE925mvIp1BtmCbCisILT08e3tzkYZmv/szxCsg5j+y+AdF8I/s/YCHjIoCXdvKIeD7I\n",
       "BviC8vnTYh0P1EqsRT06JunUC89xTEBmY4Vb2mr5VjS3nI6ZUHtBmn/yTbE9T5AIS2vOwO9TpQIz\n",
       "TkbhSPwgfDxxlRyiADPV0pVmrtvbnbalw1+YtrnuUOIyWzQHxvi2rN6I+4zU/gP8K2vBv9bqjsuX\n",
       "DJixJsOpqHDhPecQ0PbE/daS0Yvl58O3xYozI8WEoIxZTK5ZfR5R68A4zipQoKxqNUtCC2n2OlOV\n",
       "/tQrpj6xTaCwAbUD++EY1dxXG43VUdudjY8uThHHesRIT/qafzyIZ0HL/3ZCXRG/Ypj5gyHxKHlP\n",
       "5Y2HMyJaVxZJ5gChngcsAAAAnkGeQniCHwAO1lTYOgR/uSadyVrhRImDFYABnwX09slyg0pX27rl\n",
       "0bM7m9+Hy6elYnkgdSBVJCPMeyNI7bD2susxuf5RbdXoNxc4FMRSpH1Lk9rezSYyDyHP7hrL85Kc\n",
       "hNgnDQex6prHBxxRe8Bx0HCAxwS6Gat08ik3sWJDrA+hJddqmV3/0te9ccVtM0bZaoCO5DFQzrL6\n",
       "yhDzAHLBAAAAMwGeYXRD/wAEVjM77FihpUjulgGCp2y83KILSNMgy7LJFTiQKMa/kxP5Fe0QTfO0\n",
       "CCYk4AAAAC4BnmNqQ/8AILBtCcikK90kUamliijijaVQUAroAKCiP2gUSZ/11sY9J2EugCxhAAAA\n",
       "20GaaEmoQWiZTAgn//61KoAMBUJWY7c7AsseR+dtAAG+H8Ppd0JJxxr9BptQqw5XUj+Sl7hZ/5rt\n",
       "ALwIUZ8E/0hLgkNI9n0f6EVy5usVEcWrIw8vU457yuthooBAK9YHVaX39254GGvteNPkoULHxynp\n",
       "7G1APQdeQc+Cgbdv9aGKV97VeFZVNO6L65pokLEmjvS0z5Gjv4KyAxUWhbZGomfxB7ouZ0gEVNMK\n",
       "Y/cFZo1Bb6crRGiG7DR5H7fq7t2fNS9WYQz/1uF8UGybgWwAb33wizn+Iqo8Jzto3QAAAIFBnoZF\n",
       "ESwQ/wAO1PhyQccMPRX31HC+mg8NbiySL8AXlhyoZ17w4LgAXSiwlW+j6foRaRZNutyrpU6nsfmC\n",
       "F4KRxCP3oRM/sIhYqM8qvwab5kFQRdT6dXimHTMQMxUSi6HtPk/8a3M5AM83uO0iMNwl38OpPOrT\n",
       "GFmRxmjqGY5a5xkAAACbAZ6ldEP/ACCxnOW7gA/XKF5DhnIFBXldyQYQw3u7IIWgaLngYFido6M7\n",
       "20MzAnQnLZFnQbHbgOZ+AIteIjK8BtuHDDLvATFIXDoCPqkSbQ4lnAJ/hMM3dumnwn4GlOEX4fem\n",
       "j8kKIWdz/WRYA/VmXJWr+cdFuz0+NSY1lnuEFlREihSah4JOrtYoxa9js/D1PYV8kEwLXPe3ah8A\n",
       "AAAlAZ6nakP/AAPh2QomWawjajicCr0b/bcQY2v3NCYHZ4EoC2BrwAAAALhBmqxJqEFsmUwIJf/+\n",
       "tSqAAW3w4emojoOpivthPWiXdif+JxyqAHH3hxFFI7KLfe5f7wNo/L+GNbK6WRpidK6CSZa9Q3Sw\n",
       "NAenQj3yFJdqYC2XGV/zv5hgjcBvUQ4VKQU1vlhzD0ARMIiF/pmvhYLQnMk2lvz2VO4Jr/T2Os14\n",
       "Rp95tOiw44Pc0gRAfMe3Bd712yEu4jay+11SfWtLuWXKbs3ybvpxzQUJ4G/6PAinZpSbAbnMkvaA\n",
       "AAABQkGeykUVLBD/AA2G14AW3/0MkIeFPFC813b+fZei6zAJZkRs/Qq9VorUNwEak7QY/YEihVYd\n",
       "o4O8qwUKe4gL/lGkrD3WKXfI/67deywEQKYW1JMtBIaQu1A3aawlR8BIpidgaxercr1GIEkaA1az\n",
       "KfhzOexWHZbtOqCtCWsWubHQ0OKlEOGIF8fxV+yk++KTWTQYzNtwZv2RINbxg/CFniJ3HBJJNMVb\n",
       "7mqyVWeXN4yacnhUKpRi7vi0uPPKx+UldHTLWA7S1skfBH4NkufePSdYsZoWiD1hSX4Us6mVjUkU\n",
       "XBEDtcrCkpagJRUiP7FrurVz6MQMj20FBeEjSAplXu2DL6tk5N/eTur3vPXbkjrYft6VDPaJQ47I\n",
       "e6vduMyQVvh7B2ndI9FQAAExsoGSwow38IYMy7Apm6HD5eXW7/u+R0EAAAArAZ7pdEP/AB2vzNYp\n",
       "G286EGdLgcMOsl8VgllPFuk96yCPRrO8qFBzZmE7EAAAAJcBnutqQ/8AHa7GRdJEqAIx8ftBniLQ\n",
       "PoavcNaXo9fiM9sA6OVc2oCw9ldRba+6cdyheC0FipWOGBYaexYvrur/dLOny70uKbxxZk0cRiZR\n",
       "ok9ci9CA84X8aDXHivPJLDB/fvKYqubctHesHgoaSok38iK8lX4MlkC/A5N520A9iPah8WqPwv9a\n",
       "sgWFH65mk731x10NnLkQAAAA9EGa8EmoQWyZTAgh//6qVQAThC5QArcvuz09xTasDiuol9P5eGsn\n",
       "ab7eIyyw1V5/eKptIYWbHuyHLNZeO8lb6hM+sVduuWZB5OsGk0GzGrTHwN/NqvePvdCWK/rCXB4+\n",
       "fgX6uWCplLWR145YBHp2VYWxoI7MI/5/dTbe/2dldowy8dSs7jhfe5pmvFjobXUHi6Ordapqh4Ut\n",
       "WLu45zG/mI4HSvSXhaoJgnZjeaY1VZdPBOngtREhaOlzsAqhvowxYvW6l3hoUoIsPDICn6pkRAUT\n",
       "P3xDlSn6m/8gA89sfq9bWQvZeX2eT0wGrhlZBeIKruPXTW8AAAC0QZ8ORRUsEP8ADD39Y1t8Vvs0\n",
       "tijVOvQT9nKQ0OYwEm0AL99YCz2c4of0NvJixMs2P9GlmNPPQZ42lus/7x4jj18n3Sr7M42eEc0h\n",
       "xCOWtwQheRCk7sPvzN183FYih7uZ+A+gAa/BAMVHTRI46Hf3wnRX5lRkF16HsR8sfeNjq2XZwFES\n",
       "CDwpWbkdwptva8qSroyT3DEPOzrRWzMxx8vPu058XtZR0wlO1/79NCN5nNcf12vBAAAAIQGfLXRD\n",
       "/wADifmaynx+Pn8dqKXIrqyMSPnCqGfAsjgM4QAAACUBny9qQ/8AGv8c1FbCt9G441qAtWFiN4m6\n",
       "EL1LGslSkqHTp5ngAAAAhUGbMUmoQWyZTAh///6plgBCeVQ2HJT7tAAnW1UMmMl5IWXOuZrwrrwJ\n",
       "vIC3FGZJ9EB5CPBVHjnMooVJ8Bd97VjQMoH+gqbxZ9NrglmdFAW6VfdnduEIPjAAuqlqhyhRzxaT\n",
       "pkWdpnUum8vx+fxGsm9eS5621GcXdwu5KpA5VyLe2itcZYAAAAQGbW9vdgAAAGxtdmhkAAAAAAAA\n",
       "AAAAAAAAAAAD6AAADhAAAQAAAQAAAAAAAAAAAAAAAAEAAAAAAAAAAAAAAAAAAAABAAAAAAAAAAAA\n",
       "AAAAAABAAAAAAAAAAAAAAAAAAAAAAAAAAAAAAAAAAAAAAAAAAgAAAzB0cmFrAAAAXHRraGQAAAAD\n",
       "AAAAAAAAAAAAAAABAAAAAAAADhAAAAAAAAAAAAAAAAAAAAAAAAEAAAAAAAAAAAAAAAAAAAABAAAA\n",
       "AAAAAAAAAAAAAABAAAAAAbAAAAEgAAAAAAAkZWR0cwAAABxlbHN0AAAAAAAAAAEAAA4QAAAQAAAB\n",
       "AAAAAAKobWRpYQAAACBtZGhkAAAAAAAAAAAAAAAAAAAoAAAAkABVxAAAAAAALWhkbHIAAAAAAAAA\n",
       "AHZpZGUAAAAAAAAAAAAAAABWaWRlb0hhbmRsZXIAAAACU21pbmYAAAAUdm1oZAAAAAEAAAAAAAAA\n",
       "AAAAACRkaW5mAAAAHGRyZWYAAAAAAAAAAQAAAAx1cmwgAAAAAQAAAhNzdGJsAAAAs3N0c2QAAAAA\n",
       "AAAAAQAAAKNhdmMxAAAAAAAAAAEAAAAAAAAAAAAAAAAAAAAAAbABIABIAAAASAAAAAAAAAABAAAA\n",
       "AAAAAAAAAAAAAAAAAAAAAAAAAAAAAAAAAAAAAAAAGP//AAAAMWF2Y0MBZAAV/+EAGGdkABWs2UGw\n",
       "loQAAAMABAAAAwAoPFi2WAEABmjr48siwAAAABx1dWlka2hA8l8kT8W6OaUbzwMj8wAAAAAAAAAY\n",
       "c3R0cwAAAAAAAAABAAAAEgAACAAAAAAUc3RzcwAAAAAAAAABAAAAAQAAAKBjdHRzAAAAAAAAABIA\n",
       "AAABAAAQAAAAAAEAACgAAAAAAQAAEAAAAAABAAAAAAAAAAEAAAgAAAAAAQAAKAAAAAABAAAQAAAA\n",
       "AAEAAAAAAAAAAQAACAAAAAABAAAoAAAAAAEAABAAAAAAAQAAAAAAAAABAAAIAAAAAAEAACgAAAAA\n",
       "AQAAEAAAAAABAAAAAAAAAAEAAAgAAAAAAQAAEAAAAAAcc3RzYwAAAAAAAAABAAAAAQAAABIAAAAB\n",
       "AAAAXHN0c3oAAAAAAAAAAAAAABIAABNxAAAERQAAAKIAAAA3AAAAMgAAAN8AAACFAAAAnwAAACkA\n",
       "AAC8AAABRgAAAC8AAACbAAAA+AAAALgAAAAlAAAAKQAAAIkAAAAUc3RjbwAAAAAAAAABAAAALAAA\n",
       "AGJ1ZHRhAAAAWm1ldGEAAAAAAAAAIWhkbHIAAAAAAAAAAG1kaXJhcHBsAAAAAAAAAAAAAAAALWls\n",
       "c3QAAAAlqXRvbwAAAB1kYXRhAAAAAQAAAABMYXZmNTguMjkuMTAw\n",
       "\">\n",
       "  Your browser does not support the video tag.\n",
       "</video>"
      ],
      "text/plain": [
       "<IPython.core.display.HTML object>"
      ]
     },
     "execution_count": 19,
     "metadata": {},
     "output_type": "execute_result"
    }
   ],
   "source": [
    "HTML(anim.to_html5_video())"
   ]
  },
  {
   "cell_type": "code",
   "execution_count": null,
   "metadata": {},
   "outputs": [],
   "source": [
    "   def get_face_sample(face,vertices,M):\n",
    "        \"\"\"\n",
    "        computes sample points for a specific face\n",
    "        \"\"\"\n",
    "        _sample = np.random.uniform(size=(M,2))\n",
    "\n",
    "        temp = _sample[1 - _sample[:,0] < _sample[:,1],:]\n",
    "\n",
    "        vec_1=np.array([-1,1])\n",
    "        vec_1=vec_1/np.linalg.norm(vec_1)\n",
    "\n",
    "        vec_2=np.array([1,1])\n",
    "        vec_2=vec_2/np.linalg.norm(vec_2)\n",
    "\n",
    "        temp = np.dot((temp - 0.5), vec_1).reshape(-1,1)*vec_1.reshape(1,-1) - np.dot((temp - 0.5), vec_2).reshape(-1,1)*vec_2.reshape(1,-1)+0.5\n",
    "\n",
    "        _sample[1 - _sample[:,0] < _sample[:,1],:] = temp\n",
    "        return face[0,:] + np.matmul(_sample, np.stack([face[1]-face[0],face[2]-face[0]]))"
   ]
  },
  {
   "cell_type": "code",
   "execution_count": null,
   "metadata": {},
   "outputs": [],
   "source": [
    "def integrate_face(f, face, vertices, M):\n",
    "    face = vertices[face]\n",
    "    sample = get_face_sample(face, vertices, M)\n",
    "    vec = np.zeros(shape=(3,1))\n",
    "    vec[K,0]=1\n",
    "    a = np.squeeze(np.linalg.solve(np.concatenate([face, np.ones(shape=(3,1))],axis=1), vec))\n",
    "    g = lambda x: a[2] + np.matmul(x, a[:2].reshape(2,1))\n",
    "    return np.sum(np.multiply(f(sample),g(sample).T))/M"
   ]
  },
  {
   "cell_type": "code",
   "execution_count": null,
   "metadata": {},
   "outputs": [],
   "source": [
    "integrate_face(f, get_faces(N)[90], vertices, 10000)"
   ]
  },
  {
   "cell_type": "code",
   "execution_count": null,
   "metadata": {},
   "outputs": [],
   "source": [
    "get_faces(N)[0]"
   ]
  },
  {
   "cell_type": "code",
   "execution_count": null,
   "metadata": {},
   "outputs": [],
   "source": [
    "vertices = generate_vertices(N)\n",
    "faces= get_faces(N)\n",
    "face=vertices[faces[0]]"
   ]
  },
  {
   "cell_type": "code",
   "execution_count": null,
   "metadata": {},
   "outputs": [],
   "source": [
    "tt=get_face_sample(face, vertices,5)\n",
    "plt.scatter(tt[:,0],tt[:,1])\n",
    "plt.scatter(face[:,0],face[:,1])\n",
    "plt.axis('equal');"
   ]
  },
  {
   "cell_type": "code",
   "execution_count": null,
   "metadata": {},
   "outputs": [],
   "source": [
    "_sample = np.random.uniform(size=(100,2))\n",
    "\n",
    "temp = _sample[1 - _sample[:,0] < _sample[:,1],:]\n",
    "\n",
    "vec_1=np.array([-1,1])\n",
    "vec_1=vec_1/np.linalg.norm(vec_1)\n",
    "\n",
    "vec_2=np.array([1,1])\n",
    "vec_2=vec_2/np.linalg.norm(vec_2)\n",
    "\n",
    "temp = np.dot((temp - 0.5), vec_1).reshape(-1,1)*vec_1.reshape(1,-1) - np.dot((temp - 0.5), vec_2).reshape(-1,1)*vec_2.reshape(1,-1)+0.5\n",
    "\n",
    "_sample[1 - _sample[:,0] < _sample[:,1],:] = temp"
   ]
  },
  {
   "cell_type": "code",
   "execution_count": null,
   "metadata": {},
   "outputs": [],
   "source": []
  }
 ],
 "metadata": {
  "kernelspec": {
   "display_name": "Python 3",
   "language": "python",
   "name": "python3"
  },
  "language_info": {
   "codemirror_mode": {
    "name": "ipython",
    "version": 3
   },
   "file_extension": ".py",
   "mimetype": "text/x-python",
   "name": "python",
   "nbconvert_exporter": "python",
   "pygments_lexer": "ipython3",
   "version": "3.8.5"
  }
 },
 "nbformat": 4,
 "nbformat_minor": 2
}
