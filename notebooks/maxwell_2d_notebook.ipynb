{
 "cells": [
  {
   "cell_type": "code",
   "execution_count": 1,
   "id": "3e9e1c99",
   "metadata": {},
   "outputs": [],
   "source": [
    "import tensorflow as tf\n",
    "import numpy as np\n",
    "from matplotlib import pyplot as plt\n",
    "from tensorflow.nn import convolution\n",
    "\n",
    "from celluloid import Camera\n",
    "from matplotlib import animation, rc\n",
    "from IPython.display import HTML\n",
    "from IPython.display import clear_output\n",
    "from time import time\n",
    "from scipy.special import factorial"
   ]
  },
  {
   "cell_type": "code",
   "execution_count": 2,
   "id": "c52509be",
   "metadata": {},
   "outputs": [],
   "source": [
    "import os\n",
    "import sys\n",
    "module_path = os.path.abspath(os.path.join('..'))\n",
    "if module_path not in sys.path:\n",
    "    sys.path.append(module_path)"
   ]
  },
  {
   "cell_type": "code",
   "execution_count": 3,
   "id": "68481d57",
   "metadata": {},
   "outputs": [],
   "source": [
    "from FiniteDifferences.Maxwell2d import Maxwell2DFiniteDifference, DifferenceType"
   ]
  },
  {
   "cell_type": "markdown",
   "id": "8b55aee8",
   "metadata": {},
   "source": [
    "## A free electromagnetic wave in a box."
   ]
  },
  {
   "cell_type": "code",
   "execution_count": null,
   "id": "3f7f2211",
   "metadata": {},
   "outputs": [],
   "source": [
    "mwell = Maxwell2DFiniteDifference(mesh_size=0.01, step_size=1e-3, frame_rate=60,\n",
    "                                 diff_type=DifferenceType.FORWARD_DIFFERENCE)"
   ]
  },
  {
   "cell_type": "code",
   "execution_count": null,
   "id": "545165cc",
   "metadata": {},
   "outputs": [],
   "source": [
    "charge_density_callable = lambda x,y: 0\n",
    "electric_field_callable = lambda x,y: np.zeros((2,))\n",
    "magnetic_field_callable = lambda x, y: np.exp(-np.sum(np.square((np.array([x - 0.5, y- 0.5]).reshape((2,1,1)))/0.1), axis=0))"
   ]
  },
  {
   "cell_type": "code",
   "execution_count": null,
   "id": "2d9ef859",
   "metadata": {},
   "outputs": [],
   "source": [
    "B, E, I, p = mwell.evolve(magnetic_field_callable, \n",
    "                          electric_field_callable, \n",
    "                          charge_density_callable, \n",
    "                          integration_period=1,\n",
    "                          order=2,\n",
    "                          video=True)"
   ]
  },
  {
   "cell_type": "markdown",
   "id": "213ea509",
   "metadata": {},
   "source": [
    "## Two opposite charges placed on a square"
   ]
  },
  {
   "cell_type": "code",
   "execution_count": 29,
   "id": "6662195d",
   "metadata": {},
   "outputs": [],
   "source": [
    "def conductivity(x, y):\n",
    "    return 0.1 if y < 0.8*x + 0.4 and y > 0.8*x  + 0.2 and 0.8*y > -x + 0.4 and 0.8*y < -x + 1.6 else 0.0"
   ]
  },
  {
   "cell_type": "code",
   "execution_count": 30,
   "id": "e80e6083",
   "metadata": {},
   "outputs": [],
   "source": [
    "mwell = Maxwell2DFiniteDifference(mesh_size=0.01, step_size=1e-3, frame_rate=60,\n",
    "                                  conductivity=lambda x,y: conductivity(x,y), \n",
    "                                 diff_type=DifferenceType.FORWARD_DIFFERENCE)"
   ]
  },
  {
   "cell_type": "code",
   "execution_count": 31,
   "id": "48c1bc44",
   "metadata": {},
   "outputs": [],
   "source": [
    "charge_density_callable = lambda x, y: 1.0 if 0.2<x<0.25 and 0.4<y<0.45 else -1.0 if 0.7<x<0.75 and 0.8<y<0.85 else 0.0\n",
    "electric_field_callable = lambda x,y: np.zeros((2,))\n",
    "magnetic_field_callable = lambda x, y: 0.0"
   ]
  },
  {
   "cell_type": "code",
   "execution_count": 32,
   "id": "cf1e7916",
   "metadata": {},
   "outputs": [
    {
     "data": {
      "text/plain": [
       "(100, 100, 2)"
      ]
     },
     "execution_count": 32,
     "metadata": {},
     "output_type": "execute_result"
    }
   ],
   "source": [
    "E.shape"
   ]
  },
  {
   "cell_type": "code",
   "execution_count": 33,
   "id": "87c38da6",
   "metadata": {},
   "outputs": [
    {
     "data": {
      "text/plain": [
       "<matplotlib.image.AxesImage at 0x7f5d90502310>"
      ]
     },
     "execution_count": 33,
     "metadata": {},
     "output_type": "execute_result"
    },
    {
     "data": {
      "image/png": "[encoded data removed]",
      "text/plain": [
       "<Figure size 432x288 with 1 Axes>"
      ]
     },
     "metadata": {
      "needs_background": "light"
     },
     "output_type": "display_data"
    }
   ],
   "source": [
    "plt.imshow(E[:,:,1])"
   ]
  },
  {
   "cell_type": "code",
   "execution_count": null,
   "id": "34a11004",
   "metadata": {
    "scrolled": false
   },
   "outputs": [
    {
     "name": "stderr",
     "output_type": "stream",
     "text": [
      "/home/hammerhead/anaconda3/envs/tf-gpu/lib/python3.9/site-packages/scipy/sparse/linalg/dsolve/linsolve.py:144: SparseEfficiencyWarning: spsolve requires A be CSC or CSR matrix format\n",
      "  warn('spsolve requires A be CSC or CSR matrix format',\n"
     ]
    }
   ],
   "source": [
    "B, E, I, p = mwell.evolve(magnetic_field_callable, \n",
    "                          electric_field_callable, \n",
    "                          charge_density_callable, \n",
    "                          integration_period=1,\n",
    "                          order=2,\n",
    "                          video=True)"
   ]
  },
  {
   "cell_type": "code",
   "execution_count": 24,
   "id": "e21fdc9f",
   "metadata": {},
   "outputs": [],
   "source": [
    "N=mwell._number_divisions_per_axis\n",
    "axis_diskrete = np.linspace(0, 1, mwell._number_divisions_per_axis)\n",
    "mesh = np.stack(np.meshgrid(axis_diskrete, axis_diskrete))\n",
    "r = np.vectorize(charge_density_callable)(*mesh)"
   ]
  },
  {
   "cell_type": "code",
   "execution_count": 25,
   "id": "b8394cb3",
   "metadata": {},
   "outputs": [],
   "source": [
    "rr=convolution(E.reshape(1, N, N, 2).astype(np.float64) * mwell.mesh_size, mwell._continuity_filter.astype(np.float64), padding='SAME').numpy().squeeze()"
   ]
  },
  {
   "cell_type": "code",
   "execution_count": 26,
   "id": "103eb526",
   "metadata": {},
   "outputs": [
    {
     "data": {
      "text/plain": [
       "1.6321143812838155"
      ]
     },
     "execution_count": 26,
     "metadata": {},
     "output_type": "execute_result"
    }
   ],
   "source": [
    "np.max(p)"
   ]
  },
  {
   "cell_type": "code",
   "execution_count": 27,
   "id": "bc25ce47",
   "metadata": {},
   "outputs": [
    {
     "data": {
      "text/plain": [
       "1.0"
      ]
     },
     "execution_count": 27,
     "metadata": {},
     "output_type": "execute_result"
    }
   ],
   "source": [
    "np.max(r)"
   ]
  },
  {
   "cell_type": "code",
   "execution_count": 28,
   "id": "e4cee5b4",
   "metadata": {},
   "outputs": [
    {
     "data": {
      "text/plain": [
       "<matplotlib.image.AxesImage at 0x7f5d90264df0>"
      ]
     },
     "execution_count": 28,
     "metadata": {},
     "output_type": "execute_result"
    },
    {
     "data": {
      "image/png": "[encoded data removed]",
      "text/plain": [
       "<Figure size 432x288 with 1 Axes>"
      ]
     },
     "metadata": {
      "needs_background": "light"
     },
     "output_type": "display_data"
    }
   ],
   "source": [
    "plt.imshow(rr)"
   ]
  },
  {
   "cell_type": "code",
   "execution_count": 15,
   "id": "70d1f6f1",
   "metadata": {},
   "outputs": [
    {
     "data": {
      "text/plain": [
       "1000.0"
      ]
     },
     "execution_count": 15,
     "metadata": {},
     "output_type": "execute_result"
    }
   ],
   "source": [
    "np.max(r)"
   ]
  },
  {
   "cell_type": "code",
   "execution_count": 12,
   "id": "23cd868c",
   "metadata": {},
   "outputs": [
    {
     "data": {
      "text/plain": [
       "<matplotlib.image.AxesImage at 0x7f5d9063dd60>"
      ]
     },
     "execution_count": 12,
     "metadata": {},
     "output_type": "execute_result"
    },
    {
     "data": {
      "image/png": "[encoded data removed]",
      "text/plain": [
       "<Figure size 432x288 with 1 Axes>"
      ]
     },
     "metadata": {
      "needs_background": "light"
     },
     "output_type": "display_data"
    }
   ],
   "source": [
    "plt.imshow(r)"
   ]
  },
  {
   "cell_type": "code",
   "execution_count": null,
   "id": "51a292cd",
   "metadata": {},
   "outputs": [],
   "source": []
  },
  {
   "cell_type": "markdown",
   "id": "6f7e9a8c",
   "metadata": {},
   "source": [
    "## A free electromagnetic wave in absorbing box (TODO)."
   ]
  },
  {
   "cell_type": "code",
   "execution_count": null,
   "id": "024f31fb",
   "metadata": {},
   "outputs": [],
   "source": [
    "def conductivity(x, y):\n",
    "    if 2e-2 < x < 1 - 2e-2 and 2e-2 < y < 1 - 2e-2:\n",
    "        return 0.0\n",
    "    else:\n",
    "        return 1e3\n",
    "    \n",
    "def permeability(x, y):\n",
    "    if 2e-2 < x < 1 - 2e-2 and 2e-2 < y < 1 - 2e-2:\n",
    "        return 1.0\n",
    "    else:\n",
    "        return 8e-1"
   ]
  },
  {
   "cell_type": "code",
   "execution_count": null,
   "id": "52a4b0a7",
   "metadata": {},
   "outputs": [],
   "source": [
    "mwell = Maxwell2DFiniteDifference(conductivity=conductivity, \n",
    "                                  permeability=permeability, \n",
    "                                  diff_type=DifferenceType.FORWARD_DIFFERENCE,\n",
    "                                  mesh_size=0.001, step_size=1e-3, frame_rate=60)"
   ]
  },
  {
   "cell_type": "code",
   "execution_count": null,
   "id": "6d88ba7f",
   "metadata": {},
   "outputs": [],
   "source": [
    "B, E, I, p = mwell.evolve(magnetic_field_callable, \n",
    "                          electric_field_callable, \n",
    "                          charge_density_callable, \n",
    "                          \n",
    "                          integration_period=1,\n",
    "                          order=10,\n",
    "                          video=True)"
   ]
  },
  {
   "cell_type": "markdown",
   "id": "e75e5d25",
   "metadata": {},
   "source": [
    "## A coin added to the box."
   ]
  },
  {
   "cell_type": "code",
   "execution_count": null,
   "id": "277c3c1d",
   "metadata": {},
   "outputs": [],
   "source": [
    "charge_density_callable = lambda x,y: 0\n",
    "electric_field_callable = lambda x,y: np.zeros((2,))\n",
    "magnetic_field_callable = lambda x, y: np.exp(-np.sum(np.square((np.array([x - 0.5, y- 0.5]).reshape((2,1,1)))/0.1), axis=0))\n",
    "conductivity = lambda x, y: 100.0 if np.sqrt((x - 0.2)**2 + (y-0.2)**2) < 0.1 else 0.0"
   ]
  },
  {
   "cell_type": "code",
   "execution_count": null,
   "id": "97afbbdc",
   "metadata": {},
   "outputs": [],
   "source": [
    "mwell = Maxwell2DFiniteDifference(mesh_size=0.001, \n",
    "                                  step_size=1e-3, \n",
    "                                  diff_type=DifferenceType.FORWARD_DIFFERENCE,\n",
    "                                  conductivity=conductivity, \n",
    "                                  frame_rate=8)"
   ]
  },
  {
   "cell_type": "code",
   "execution_count": null,
   "id": "a6f68076",
   "metadata": {},
   "outputs": [],
   "source": [
    "B, E, I, p = mwell.evolve(magnetic_field_callable, \n",
    "                          electric_field_callable, \n",
    "                          charge_density_callable, \n",
    "                          integration_period=6,\n",
    "                          order=10,\n",
    "                          video=True)"
   ]
  },
  {
   "cell_type": "markdown",
   "id": "0aa9c10f",
   "metadata": {},
   "source": [
    "## Dipole antenna"
   ]
  },
  {
   "cell_type": "code",
   "execution_count": null,
   "id": "211c7cf3",
   "metadata": {},
   "outputs": [],
   "source": [
    "charge_density_callable = lambda x,y: 0\n",
    "electric_field_callable = lambda x,y: np.zeros((2,))\n",
    "magnetic_field_callable = lambda x, y: np.exp(-np.sum(np.square((np.array([x - 0.3, y- 0.5]).reshape((2,1,1)))/0.1), axis=0)) - \\\n",
    "                                       np.exp(-np.sum(np.square((np.array([x - 0.7, y- 0.5]).reshape((2,1,1)))/0.1), axis=0))"
   ]
  },
  {
   "cell_type": "code",
   "execution_count": null,
   "id": "0c5b4e37",
   "metadata": {},
   "outputs": [],
   "source": [
    "def antenna(x, y):\n",
    "    if 0.45 < x < 0.55 and 0.2 < y < 0.8:\n",
    "        return 100\n",
    "    else:\n",
    "        return 0.0\n",
    "\n",
    "def conductivity(x, y):\n",
    "    if 2e-2 < x < 1 - 2e-2 and 2e-2 < y < 1 - 2e-2:\n",
    "        return 0.0\n",
    "    else:\n",
    "        return 1e3"
   ]
  },
  {
   "cell_type": "code",
   "execution_count": null,
   "id": "281e8afe",
   "metadata": {},
   "outputs": [],
   "source": [
    "mwell = Maxwell2DFiniteDifference(mesh_size=0.001, \n",
    "                                  diff_type=DifferenceType.FORWARD_DIFFERENCE,\n",
    "                                  step_size=1e-3, \n",
    "                                  conductivity=lambda x,y: conductivity(x,y) + antenna(x,y), \n",
    "                                  frame_rate=8)"
   ]
  },
  {
   "cell_type": "code",
   "execution_count": null,
   "id": "3d6317e4",
   "metadata": {},
   "outputs": [],
   "source": [
    "B, E, I, p = mwell.evolve(magnetic_field_callable, \n",
    "                          electric_field_callable, \n",
    "                          charge_density_callable, \n",
    "                          integration_period=20,\n",
    "                          order=10,\n",
    "                          video=True)"
   ]
  },
  {
   "cell_type": "code",
   "execution_count": null,
   "id": "06633ee7",
   "metadata": {},
   "outputs": [],
   "source": [
    "plt.imshow(p)"
   ]
  },
  {
   "cell_type": "code",
   "execution_count": null,
   "id": "b199bd8e",
   "metadata": {},
   "outputs": [],
   "source": []
  }
 ],
 "metadata": {
  "kernelspec": {
   "display_name": "Python 3",
   "language": "python",
   "name": "python3"
  },
  "language_info": {
   "codemirror_mode": {
    "name": "ipython",
    "version": 3
   },
   "file_extension": ".py",
   "mimetype": "text/x-python",
   "name": "python",
   "nbconvert_exporter": "python",
   "pygments_lexer": "ipython3",
   "version": "3.9.5"
  }
 },
 "nbformat": 4,
 "nbformat_minor": 5
}
