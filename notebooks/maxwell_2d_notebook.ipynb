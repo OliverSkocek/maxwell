{
 "cells": [
  {
   "cell_type": "code",
   "execution_count": 1,
   "id": "3e9e1c99",
   "metadata": {},
   "outputs": [],
   "source": [
    "import tensorflow as tf\n",
    "import numpy as np\n",
    "from matplotlib import pyplot as plt\n",
    "from tensorflow.nn import convolution\n",
    "\n",
    "from celluloid import Camera\n",
    "from matplotlib import animation, rc\n",
    "from IPython.display import HTML\n",
    "from IPython.display import clear_output\n",
    "from time import time\n",
    "from scipy.special import factorial"
   ]
  },
  {
   "cell_type": "code",
   "execution_count": 2,
   "id": "c52509be",
   "metadata": {},
   "outputs": [],
   "source": [
    "import os\n",
    "import sys\n",
    "module_path = os.path.abspath(os.path.join('..'))\n",
    "if module_path not in sys.path:\n",
    "    sys.path.append(module_path)"
   ]
  },
  {
   "cell_type": "code",
   "execution_count": 3,
   "id": "68481d57",
   "metadata": {},
   "outputs": [],
   "source": [
    "from FiniteDifferences.Maxwell2d import Maxwell2DFiniteDifference, DifferenceType"
   ]
  },
  {
   "cell_type": "markdown",
   "id": "8b55aee8",
   "metadata": {},
   "source": [
    "## A free electromagnetic wave in a box."
   ]
  },
  {
   "cell_type": "code",
   "execution_count": 4,
   "id": "3f7f2211",
   "metadata": {},
   "outputs": [],
   "source": [
    "mwell = Maxwell2DFiniteDifference(mesh_size=0.01, step_size=1e-3, frame_rate=60,\n",
    "                                 diff_type=DifferenceType.FORWARD_DIFFERENCE)"
   ]
  },
  {
   "cell_type": "code",
   "execution_count": 5,
   "id": "545165cc",
   "metadata": {},
   "outputs": [],
   "source": [
    "charge_density_callable = lambda x,y: 0\n",
    "electric_field_callable = lambda x,y: np.zeros((2,))\n",
    "magnetic_field_callable = lambda x, y: np.exp(-np.sum(np.square((np.array([x - 0.5, y- 0.5]).reshape((2,1,1)))/0.1), axis=0))"
   ]
  },
  {
   "cell_type": "code",
   "execution_count": null,
   "id": "48107885",
   "metadata": {},
   "outputs": [],
   "source": [
    "B, E, I, p = mwell.evolve(magnetic_field_callable, \n",
    "                          electric_field_callable, \n",
    "                          charge_density_callable, \n",
    "                          integration_period=1,\n",
    "                          order=10,\n",
    "                          video=True)"
   ]
  },
  {
   "cell_type": "markdown",
   "id": "6f7e9a8c",
   "metadata": {},
   "source": [
    "## A free electromagnetic wave in absorbing box (TODO)."
   ]
  },
  {
   "cell_type": "code",
   "execution_count": 6,
   "id": "024f31fb",
   "metadata": {},
   "outputs": [],
   "source": [
    "def conductivity(x, y):\n",
    "    if 2e-2 < x < 1 - 2e-2 and 2e-2 < y < 1 - 2e-2:\n",
    "        return 0.0\n",
    "    else:\n",
    "        return 1e3\n",
    "    \n",
    "def permeability(x, y):\n",
    "    if 2e-2 < x < 1 - 2e-2 and 2e-2 < y < 1 - 2e-2:\n",
    "        return 1.0\n",
    "    else:\n",
    "        return 8e-1"
   ]
  },
  {
   "cell_type": "code",
   "execution_count": 7,
   "id": "52a4b0a7",
   "metadata": {},
   "outputs": [],
   "source": [
    "mwell = Maxwell2DFiniteDifference(conductivity=conductivity, \n",
    "                                  permeability=permeability, \n",
    "                                  diff_type=DifferenceType.FORWARD_DIFFERENCE,\n",
    "                                  mesh_size=0.001, step_size=1e-3, frame_rate=60)"
   ]
  },
  {
   "cell_type": "code",
   "execution_count": 8,
   "id": "6d88ba7f",
   "metadata": {},
   "outputs": [
    {
     "ename": "ResourceExhaustedError",
     "evalue": "OOM when allocating tensor with shape[1,2,1000,1000] and type double on /job:localhost/replica:0/task:0/device:GPU:0 by allocator GPU_0_bfc [Op:Conv2D]",
     "output_type": "error",
     "traceback": [
      "\u001b[0;31m---------------------------------------------------------------------------\u001b[0m",
      "\u001b[0;31mResourceExhaustedError\u001b[0m                    Traceback (most recent call last)",
      "\u001b[0;32m<ipython-input-8-c929721acc6e>\u001b[0m in \u001b[0;36m<module>\u001b[0;34m\u001b[0m\n\u001b[0;32m----> 1\u001b[0;31m B, E, I, p = mwell.evolve(magnetic_field_callable, \n\u001b[0m\u001b[1;32m      2\u001b[0m                           \u001b[0melectric_field_callable\u001b[0m\u001b[0;34m,\u001b[0m\u001b[0;34m\u001b[0m\u001b[0;34m\u001b[0m\u001b[0m\n\u001b[1;32m      3\u001b[0m                           \u001b[0mcharge_density_callable\u001b[0m\u001b[0;34m,\u001b[0m\u001b[0;34m\u001b[0m\u001b[0;34m\u001b[0m\u001b[0m\n\u001b[1;32m      4\u001b[0m \u001b[0;34m\u001b[0m\u001b[0m\n\u001b[1;32m      5\u001b[0m                           \u001b[0mintegration_period\u001b[0m\u001b[0;34m=\u001b[0m\u001b[0;36m1\u001b[0m\u001b[0;34m,\u001b[0m\u001b[0;34m\u001b[0m\u001b[0;34m\u001b[0m\u001b[0m\n",
      "\u001b[0;32m~/PycharmProjects/maxwell/FiniteDifferences/Maxwell2d.py\u001b[0m in \u001b[0;36mevolve\u001b[0;34m(self, initial_B, initial_E, initial_charge, integration_period, order, video)\u001b[0m\n\u001b[1;32m    125\u001b[0m                 \u001b[0mj\u001b[0m \u001b[0;34m=\u001b[0m \u001b[0mg\u001b[0m \u001b[0;34m*\u001b[0m \u001b[0mdE\u001b[0m\u001b[0;34m\u001b[0m\u001b[0;34m\u001b[0m\u001b[0m\n\u001b[1;32m    126\u001b[0m                 dB, dE = (convolution(dE, filters=faraday_filter, padding='SAME'),\n\u001b[0;32m--> 127\u001b[0;31m                           convolution(dB / eps / mu, filters=ampere_filter, padding='SAME') - j / eps)\n\u001b[0m\u001b[1;32m    128\u001b[0m                 \u001b[0mdp\u001b[0m \u001b[0;34m=\u001b[0m \u001b[0mconvolution\u001b[0m\u001b[0;34m(\u001b[0m\u001b[0mj\u001b[0m \u001b[0;34m*\u001b[0m \u001b[0mself\u001b[0m\u001b[0;34m.\u001b[0m\u001b[0mmesh_size\u001b[0m\u001b[0;34m,\u001b[0m \u001b[0mfilters\u001b[0m\u001b[0;34m=\u001b[0m\u001b[0mcontinuity_filter\u001b[0m\u001b[0;34m,\u001b[0m \u001b[0mpadding\u001b[0m\u001b[0;34m=\u001b[0m\u001b[0;34m'SAME'\u001b[0m\u001b[0;34m)\u001b[0m\u001b[0;34m\u001b[0m\u001b[0;34m\u001b[0m\u001b[0m\n\u001b[1;32m    129\u001b[0m \u001b[0;34m\u001b[0m\u001b[0m\n",
      "\u001b[0;32m~/anaconda3/envs/tf-gpu/lib/python3.9/site-packages/tensorflow/python/util/dispatch.py\u001b[0m in \u001b[0;36mwrapper\u001b[0;34m(*args, **kwargs)\u001b[0m\n\u001b[1;32m    199\u001b[0m     \u001b[0;34m\"\"\"Call target, and fall back on dispatchers if there is a TypeError.\"\"\"\u001b[0m\u001b[0;34m\u001b[0m\u001b[0;34m\u001b[0m\u001b[0m\n\u001b[1;32m    200\u001b[0m     \u001b[0;32mtry\u001b[0m\u001b[0;34m:\u001b[0m\u001b[0;34m\u001b[0m\u001b[0;34m\u001b[0m\u001b[0m\n\u001b[0;32m--> 201\u001b[0;31m       \u001b[0;32mreturn\u001b[0m \u001b[0mtarget\u001b[0m\u001b[0;34m(\u001b[0m\u001b[0;34m*\u001b[0m\u001b[0margs\u001b[0m\u001b[0;34m,\u001b[0m \u001b[0;34m**\u001b[0m\u001b[0mkwargs\u001b[0m\u001b[0;34m)\u001b[0m\u001b[0;34m\u001b[0m\u001b[0;34m\u001b[0m\u001b[0m\n\u001b[0m\u001b[1;32m    202\u001b[0m     \u001b[0;32mexcept\u001b[0m \u001b[0;34m(\u001b[0m\u001b[0mTypeError\u001b[0m\u001b[0;34m,\u001b[0m \u001b[0mValueError\u001b[0m\u001b[0;34m)\u001b[0m\u001b[0;34m:\u001b[0m\u001b[0;34m\u001b[0m\u001b[0;34m\u001b[0m\u001b[0m\n\u001b[1;32m    203\u001b[0m       \u001b[0;31m# Note: convert_to_eager_tensor currently raises a ValueError, not a\u001b[0m\u001b[0;34m\u001b[0m\u001b[0;34m\u001b[0m\u001b[0;34m\u001b[0m\u001b[0m\n",
      "\u001b[0;32m~/anaconda3/envs/tf-gpu/lib/python3.9/site-packages/tensorflow/python/ops/nn_ops.py\u001b[0m in \u001b[0;36mconvolution_v2\u001b[0;34m(input, filters, strides, padding, data_format, dilations, name)\u001b[0m\n\u001b[1;32m   1011\u001b[0m     \u001b[0mdilations\u001b[0m\u001b[0;34m=\u001b[0m\u001b[0;32mNone\u001b[0m\u001b[0;34m,\u001b[0m\u001b[0;34m\u001b[0m\u001b[0;34m\u001b[0m\u001b[0m\n\u001b[1;32m   1012\u001b[0m     name=None):\n\u001b[0;32m-> 1013\u001b[0;31m   return convolution_internal(\n\u001b[0m\u001b[1;32m   1014\u001b[0m       \u001b[0minput\u001b[0m\u001b[0;34m,\u001b[0m  \u001b[0;31m# pylint: disable=redefined-builtin\u001b[0m\u001b[0;34m\u001b[0m\u001b[0;34m\u001b[0m\u001b[0m\n\u001b[1;32m   1015\u001b[0m       \u001b[0mfilters\u001b[0m\u001b[0;34m,\u001b[0m\u001b[0;34m\u001b[0m\u001b[0;34m\u001b[0m\u001b[0m\n",
      "\u001b[0;32m~/anaconda3/envs/tf-gpu/lib/python3.9/site-packages/tensorflow/python/ops/nn_ops.py\u001b[0m in \u001b[0;36mconvolution_internal\u001b[0;34m(input, filters, strides, padding, data_format, dilations, name, call_from_convolution, num_spatial_dims)\u001b[0m\n\u001b[1;32m   1141\u001b[0m         \u001b[0mop\u001b[0m \u001b[0;34m=\u001b[0m \u001b[0mconv1d\u001b[0m\u001b[0;34m\u001b[0m\u001b[0;34m\u001b[0m\u001b[0m\n\u001b[1;32m   1142\u001b[0m \u001b[0;34m\u001b[0m\u001b[0m\n\u001b[0;32m-> 1143\u001b[0;31m       return op(\n\u001b[0m\u001b[1;32m   1144\u001b[0m           \u001b[0minput\u001b[0m\u001b[0;34m,\u001b[0m\u001b[0;34m\u001b[0m\u001b[0;34m\u001b[0m\u001b[0m\n\u001b[1;32m   1145\u001b[0m           \u001b[0mfilters\u001b[0m\u001b[0;34m,\u001b[0m\u001b[0;34m\u001b[0m\u001b[0;34m\u001b[0m\u001b[0m\n",
      "\u001b[0;32m~/anaconda3/envs/tf-gpu/lib/python3.9/site-packages/tensorflow/python/ops/nn_ops.py\u001b[0m in \u001b[0;36m_conv2d_expanded_batch\u001b[0;34m(input, filters, strides, padding, data_format, dilations, name)\u001b[0m\n\u001b[1;32m   2595\u001b[0m     \u001b[0;31m# We avoid calling squeeze_batch_dims to reduce extra python function\u001b[0m\u001b[0;34m\u001b[0m\u001b[0;34m\u001b[0m\u001b[0;34m\u001b[0m\u001b[0m\n\u001b[1;32m   2596\u001b[0m     \u001b[0;31m# call slowdown in eager mode.  This branch doesn't require reshapes.\u001b[0m\u001b[0;34m\u001b[0m\u001b[0;34m\u001b[0m\u001b[0;34m\u001b[0m\u001b[0m\n\u001b[0;32m-> 2597\u001b[0;31m     return gen_nn_ops.conv2d(\n\u001b[0m\u001b[1;32m   2598\u001b[0m         \u001b[0minput\u001b[0m\u001b[0;34m,\u001b[0m\u001b[0;34m\u001b[0m\u001b[0;34m\u001b[0m\u001b[0m\n\u001b[1;32m   2599\u001b[0m         \u001b[0mfilter\u001b[0m\u001b[0;34m=\u001b[0m\u001b[0mfilters\u001b[0m\u001b[0;34m,\u001b[0m\u001b[0;34m\u001b[0m\u001b[0;34m\u001b[0m\u001b[0m\n",
      "\u001b[0;32m~/anaconda3/envs/tf-gpu/lib/python3.9/site-packages/tensorflow/python/ops/gen_nn_ops.py\u001b[0m in \u001b[0;36mconv2d\u001b[0;34m(input, filter, strides, padding, use_cudnn_on_gpu, explicit_paddings, data_format, dilations, name)\u001b[0m\n\u001b[1;32m    930\u001b[0m       \u001b[0;32mreturn\u001b[0m \u001b[0m_result\u001b[0m\u001b[0;34m\u001b[0m\u001b[0;34m\u001b[0m\u001b[0m\n\u001b[1;32m    931\u001b[0m     \u001b[0;32mexcept\u001b[0m \u001b[0m_core\u001b[0m\u001b[0;34m.\u001b[0m\u001b[0m_NotOkStatusException\u001b[0m \u001b[0;32mas\u001b[0m \u001b[0me\u001b[0m\u001b[0;34m:\u001b[0m\u001b[0;34m\u001b[0m\u001b[0;34m\u001b[0m\u001b[0m\n\u001b[0;32m--> 932\u001b[0;31m       \u001b[0m_ops\u001b[0m\u001b[0;34m.\u001b[0m\u001b[0mraise_from_not_ok_status\u001b[0m\u001b[0;34m(\u001b[0m\u001b[0me\u001b[0m\u001b[0;34m,\u001b[0m \u001b[0mname\u001b[0m\u001b[0;34m)\u001b[0m\u001b[0;34m\u001b[0m\u001b[0;34m\u001b[0m\u001b[0m\n\u001b[0m\u001b[1;32m    933\u001b[0m     \u001b[0;32mexcept\u001b[0m \u001b[0m_core\u001b[0m\u001b[0;34m.\u001b[0m\u001b[0m_FallbackException\u001b[0m\u001b[0;34m:\u001b[0m\u001b[0;34m\u001b[0m\u001b[0;34m\u001b[0m\u001b[0m\n\u001b[1;32m    934\u001b[0m       \u001b[0;32mpass\u001b[0m\u001b[0;34m\u001b[0m\u001b[0;34m\u001b[0m\u001b[0m\n",
      "\u001b[0;32m~/anaconda3/envs/tf-gpu/lib/python3.9/site-packages/tensorflow/python/framework/ops.py\u001b[0m in \u001b[0;36mraise_from_not_ok_status\u001b[0;34m(e, name)\u001b[0m\n\u001b[1;32m   6860\u001b[0m   \u001b[0mmessage\u001b[0m \u001b[0;34m=\u001b[0m \u001b[0me\u001b[0m\u001b[0;34m.\u001b[0m\u001b[0mmessage\u001b[0m \u001b[0;34m+\u001b[0m \u001b[0;34m(\u001b[0m\u001b[0;34m\" name: \"\u001b[0m \u001b[0;34m+\u001b[0m \u001b[0mname\u001b[0m \u001b[0;32mif\u001b[0m \u001b[0mname\u001b[0m \u001b[0;32mis\u001b[0m \u001b[0;32mnot\u001b[0m \u001b[0;32mNone\u001b[0m \u001b[0;32melse\u001b[0m \u001b[0;34m\"\"\u001b[0m\u001b[0;34m)\u001b[0m\u001b[0;34m\u001b[0m\u001b[0;34m\u001b[0m\u001b[0m\n\u001b[1;32m   6861\u001b[0m   \u001b[0;31m# pylint: disable=protected-access\u001b[0m\u001b[0;34m\u001b[0m\u001b[0;34m\u001b[0m\u001b[0;34m\u001b[0m\u001b[0m\n\u001b[0;32m-> 6862\u001b[0;31m   \u001b[0msix\u001b[0m\u001b[0;34m.\u001b[0m\u001b[0mraise_from\u001b[0m\u001b[0;34m(\u001b[0m\u001b[0mcore\u001b[0m\u001b[0;34m.\u001b[0m\u001b[0m_status_to_exception\u001b[0m\u001b[0;34m(\u001b[0m\u001b[0me\u001b[0m\u001b[0;34m.\u001b[0m\u001b[0mcode\u001b[0m\u001b[0;34m,\u001b[0m \u001b[0mmessage\u001b[0m\u001b[0;34m)\u001b[0m\u001b[0;34m,\u001b[0m \u001b[0;32mNone\u001b[0m\u001b[0;34m)\u001b[0m\u001b[0;34m\u001b[0m\u001b[0;34m\u001b[0m\u001b[0m\n\u001b[0m\u001b[1;32m   6863\u001b[0m   \u001b[0;31m# pylint: enable=protected-access\u001b[0m\u001b[0;34m\u001b[0m\u001b[0;34m\u001b[0m\u001b[0;34m\u001b[0m\u001b[0m\n\u001b[1;32m   6864\u001b[0m \u001b[0;34m\u001b[0m\u001b[0m\n",
      "\u001b[0;32m~/anaconda3/envs/tf-gpu/lib/python3.9/site-packages/six.py\u001b[0m in \u001b[0;36mraise_from\u001b[0;34m(value, from_value)\u001b[0m\n",
      "\u001b[0;31mResourceExhaustedError\u001b[0m: OOM when allocating tensor with shape[1,2,1000,1000] and type double on /job:localhost/replica:0/task:0/device:GPU:0 by allocator GPU_0_bfc [Op:Conv2D]"
     ]
    },
    {
     "data": {
      "image/png": "[encoded data removed]",
      "text/plain": [
       "<Figure size 432x288 with 4 Axes>"
      ]
     },
     "metadata": {
      "needs_background": "light"
     },
     "output_type": "display_data"
    }
   ],
   "source": [
    "B, E, I, p = mwell.evolve(magnetic_field_callable, \n",
    "                          electric_field_callable, \n",
    "                          charge_density_callable, \n",
    "                          \n",
    "                          integration_period=1,\n",
    "                          order=10,\n",
    "                          video=True)"
   ]
  },
  {
   "cell_type": "markdown",
   "id": "e75e5d25",
   "metadata": {},
   "source": [
    "## A coin added to the box."
   ]
  },
  {
   "cell_type": "code",
   "execution_count": null,
   "id": "277c3c1d",
   "metadata": {},
   "outputs": [],
   "source": [
    "charge_density_callable = lambda x,y: 0\n",
    "electric_field_callable = lambda x,y: np.zeros((2,))\n",
    "magnetic_field_callable = lambda x, y: np.exp(-np.sum(np.square((np.array([x - 0.5, y- 0.5]).reshape((2,1,1)))/0.1), axis=0))\n",
    "conductivity = lambda x, y: 100.0 if np.sqrt((x - 0.2)**2 + (y-0.2)**2) < 0.1 else 0.0"
   ]
  },
  {
   "cell_type": "code",
   "execution_count": null,
   "id": "97afbbdc",
   "metadata": {},
   "outputs": [],
   "source": [
    "mwell = Maxwell2DFiniteDifference(mesh_size=0.001, \n",
    "                                  step_size=1e-3, \n",
    "                                  diff_type=DifferenceType.FORWARD_DIFFERENCE,\n",
    "                                  conductivity=conductivity, \n",
    "                                  frame_rate=8)"
   ]
  },
  {
   "cell_type": "code",
   "execution_count": null,
   "id": "a6f68076",
   "metadata": {},
   "outputs": [],
   "source": [
    "B, E, I, p = mwell.evolve(magnetic_field_callable, \n",
    "                          electric_field_callable, \n",
    "                          charge_density_callable, \n",
    "                          integration_period=6,\n",
    "                          order=10,\n",
    "                          video=True)"
   ]
  },
  {
   "cell_type": "markdown",
   "id": "0aa9c10f",
   "metadata": {},
   "source": [
    "## Dipole antenna"
   ]
  },
  {
   "cell_type": "code",
   "execution_count": null,
   "id": "211c7cf3",
   "metadata": {},
   "outputs": [],
   "source": [
    "charge_density_callable = lambda x,y: 0\n",
    "electric_field_callable = lambda x,y: np.zeros((2,))\n",
    "magnetic_field_callable = lambda x, y: np.exp(-np.sum(np.square((np.array([x - 0.3, y- 0.5]).reshape((2,1,1)))/0.1), axis=0)) - \\\n",
    "                                       np.exp(-np.sum(np.square((np.array([x - 0.7, y- 0.5]).reshape((2,1,1)))/0.1), axis=0))"
   ]
  },
  {
   "cell_type": "code",
   "execution_count": null,
   "id": "0c5b4e37",
   "metadata": {},
   "outputs": [],
   "source": [
    "def antenna(x, y):\n",
    "    if 0.45 < x < 0.55 and 0.2 < y < 0.8:\n",
    "        return 100\n",
    "    else:\n",
    "        return 0.0\n",
    "\n",
    "def conductivity(x, y):\n",
    "    if 2e-2 < x < 1 - 2e-2 and 2e-2 < y < 1 - 2e-2:\n",
    "        return 0.0\n",
    "    else:\n",
    "        return 1e3"
   ]
  },
  {
   "cell_type": "code",
   "execution_count": null,
   "id": "281e8afe",
   "metadata": {},
   "outputs": [],
   "source": [
    "mwell = Maxwell2DFiniteDifference(mesh_size=0.001, \n",
    "                                  diff_type=DifferenceType.FORWARD_DIFFERENCE,\n",
    "                                  step_size=1e-3, \n",
    "                                  conductivity=lambda x,y: conductivity(x,y) + antenna(x,y), \n",
    "                                  frame_rate=8)"
   ]
  },
  {
   "cell_type": "code",
   "execution_count": null,
   "id": "3d6317e4",
   "metadata": {},
   "outputs": [],
   "source": [
    "B, E, I, p = mwell.evolve(magnetic_field_callable, \n",
    "                          electric_field_callable, \n",
    "                          charge_density_callable, \n",
    "                          integration_period=20,\n",
    "                          order=10,\n",
    "                          video=True)"
   ]
  },
  {
   "cell_type": "code",
   "execution_count": null,
   "id": "06633ee7",
   "metadata": {},
   "outputs": [],
   "source": [
    "plt.imshow(p)"
   ]
  },
  {
   "cell_type": "code",
   "execution_count": null,
   "id": "b199bd8e",
   "metadata": {},
   "outputs": [],
   "source": []
  }
 ],
 "metadata": {
  "kernelspec": {
   "display_name": "Python 3",
   "language": "python",
   "name": "python3"
  },
  "language_info": {
   "codemirror_mode": {
    "name": "ipython",
    "version": 3
   },
   "file_extension": ".py",
   "mimetype": "text/x-python",
   "name": "python",
   "nbconvert_exporter": "python",
   "pygments_lexer": "ipython3",
   "version": "3.9.5"
  }
 },
 "nbformat": 4,
 "nbformat_minor": 5
}
