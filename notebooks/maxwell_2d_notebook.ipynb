{
 "cells": [
  {
   "cell_type": "code",
   "execution_count": 1,
   "id": "3e9e1c99",
   "metadata": {},
   "outputs": [],
   "source": [
    "import tensorflow as tf\n",
    "import numpy as np\n",
    "from matplotlib import pyplot as plt\n",
    "from tensorflow.nn import convolution\n",
    "\n",
    "from celluloid import Camera\n",
    "from matplotlib import animation, rc\n",
    "from IPython.display import HTML\n",
    "from IPython.display import clear_output\n",
    "from time import time\n",
    "from scipy.special import factorial"
   ]
  },
  {
   "cell_type": "code",
   "execution_count": 2,
   "id": "c52509be",
   "metadata": {},
   "outputs": [],
   "source": [
    "import os\n",
    "import sys\n",
    "module_path = os.path.abspath(os.path.join('..'))\n",
    "if module_path not in sys.path:\n",
    "    sys.path.append(module_path)"
   ]
  },
  {
   "cell_type": "code",
   "execution_count": 3,
   "id": "68481d57",
   "metadata": {},
   "outputs": [],
   "source": [
    "from FiniteDifferences.Maxwell2d import Maxwell2DFiniteDifference"
   ]
  },
  {
   "cell_type": "markdown",
   "id": "8b55aee8",
   "metadata": {},
   "source": [
    "## A free electromagnetic wave in a box."
   ]
  },
  {
   "cell_type": "code",
   "execution_count": 4,
   "id": "3f7f2211",
   "metadata": {},
   "outputs": [],
   "source": [
    "mwell = Maxwell2DFiniteDifference(mesh_size=0.01, step_size=1e-3, frame_rate=60)"
   ]
  },
  {
   "cell_type": "code",
   "execution_count": 5,
   "id": "545165cc",
   "metadata": {},
   "outputs": [],
   "source": [
    "charge_density_callable = lambda x,y: 0\n",
    "electric_field_callable = lambda x,y: np.zeros((2,))\n",
    "magnetic_field_callable = lambda x, y: np.exp(-np.sum(np.square((np.array([x - 0.5, y- 0.5]).reshape((2,1,1)))/0.1), axis=0))"
   ]
  },
  {
   "cell_type": "code",
   "execution_count": null,
   "id": "48107885",
   "metadata": {},
   "outputs": [],
   "source": [
    "B, E, I, p = mwell.evolve(magnetic_field_callable, \n",
    "                          electric_field_callable, \n",
    "                          charge_density_callable, \n",
    "                          integration_period=1,\n",
    "                          order=20,\n",
    "                          video=True)"
   ]
  },
  {
   "cell_type": "markdown",
   "id": "e75e5d25",
   "metadata": {},
   "source": [
    "## A coin added to the box."
   ]
  },
  {
   "cell_type": "code",
   "execution_count": null,
   "id": "277c3c1d",
   "metadata": {},
   "outputs": [],
   "source": [
    "charge_density_callable = lambda x,y: 0\n",
    "electric_field_callable = lambda x,y: np.zeros((2,))\n",
    "magnetic_field_callable = lambda x, y: np.exp(-np.sum(np.square((np.array([x - 0.5, y- 0.5]).reshape((2,1,1)))/0.1), axis=0))\n",
    "resistance = lambda x, y: 0.01 if np.sqrt((x - 0.2)**2 + (y-0.2)**2) < 0.1 else np.inf"
   ]
  },
  {
   "cell_type": "code",
   "execution_count": null,
   "id": "97afbbdc",
   "metadata": {},
   "outputs": [],
   "source": [
    "mwell = Maxwell2DFiniteDifference(mesh_size=0.001, \n",
    "                                  step_size=1e-3, \n",
    "                                  resistance=resistance, \n",
    "                                  frame_rate=20)"
   ]
  },
  {
   "cell_type": "code",
   "execution_count": null,
   "id": "a6f68076",
   "metadata": {},
   "outputs": [],
   "source": [
    "B, E, I, p = mwell.evolve(magnetic_field_callable, \n",
    "                          electric_field_callable, \n",
    "                          charge_density_callable, \n",
    "                          integration_period=1,\n",
    "                          order=5,\n",
    "                          video=True)"
   ]
  },
  {
   "cell_type": "markdown",
   "id": "46b315ac",
   "metadata": {},
   "source": [
    "## Dipole antenna"
   ]
  },
  {
   "cell_type": "code",
   "execution_count": null,
   "id": "762d9378",
   "metadata": {},
   "outputs": [],
   "source": [
    "charge_density_callable = lambda x,y: 0\n",
    "electric_field_callable = lambda x,y: np.zeros((2,))\n",
    "magnetic_field_callable = lambda x, y: np.exp(-np.sum(np.square((np.array([x - 0.3, y- 0.5]).reshape((2,1,1)))/0.1), axis=0)) - \\\n",
    "                                       np.exp(-np.sum(np.square((np.array([x - 0.7, y- 0.5]).reshape((2,1,1)))/0.1), axis=0))"
   ]
  },
  {
   "cell_type": "code",
   "execution_count": null,
   "id": "9251ef3c",
   "metadata": {},
   "outputs": [],
   "source": [
    "def antenna(x, y):\n",
    "    if 0.45 < x < 0.55 and 0.2 < y < 0.8:\n",
    "        return 0.01\n",
    "    else:\n",
    "        return np.inf"
   ]
  },
  {
   "cell_type": "code",
   "execution_count": null,
   "id": "32ba4325",
   "metadata": {},
   "outputs": [],
   "source": [
    "mwell = Maxwell2DFiniteDifference(mesh_size=0.001, \n",
    "                                  step_size=1e-3, \n",
    "                                  resistance=antenna, \n",
    "                                  frame_rate=20)"
   ]
  },
  {
   "cell_type": "code",
   "execution_count": null,
   "id": "a69b5f8f",
   "metadata": {},
   "outputs": [],
   "source": [
    "B, E, I, p = mwell.evolve(magnetic_field_callable, \n",
    "                          electric_field_callable, \n",
    "                          charge_density_callable, \n",
    "                          integration_period=1,\n",
    "                          order=5,\n",
    "                          video=True)"
   ]
  },
  {
   "cell_type": "code",
   "execution_count": null,
   "id": "53b14bb2",
   "metadata": {},
   "outputs": [],
   "source": [
    "plt.imshow(mwell._R)"
   ]
  },
  {
   "cell_type": "code",
   "execution_count": null,
   "id": "a6141ae8",
   "metadata": {},
   "outputs": [],
   "source": [
    "plt.imshow(p, vmin=-5e1,vmax=5e1)"
   ]
  },
  {
   "cell_type": "code",
   "execution_count": null,
   "id": "9f50ce09",
   "metadata": {},
   "outputs": [],
   "source": [
    "np.max(p)"
   ]
  },
  {
   "cell_type": "code",
   "execution_count": null,
   "id": "32aa9e88",
   "metadata": {},
   "outputs": [],
   "source": []
  }
 ],
 "metadata": {
  "kernelspec": {
   "display_name": "Python 3",
   "language": "python",
   "name": "python3"
  },
  "language_info": {
   "codemirror_mode": {
    "name": "ipython",
    "version": 3
   },
   "file_extension": ".py",
   "mimetype": "text/x-python",
   "name": "python",
   "nbconvert_exporter": "python",
   "pygments_lexer": "ipython3",
   "version": "3.9.5"
  }
 },
 "nbformat": 4,
 "nbformat_minor": 5
}
